{
 "cells": [
  {
   "cell_type": "code",
   "execution_count": 1,
   "metadata": {},
   "outputs": [],
   "source": [
    "import numpy as np\n",
    "\n",
    "from matplotlib import pyplot as plt"
   ]
  },
  {
   "cell_type": "markdown",
   "metadata": {},
   "source": [
    "This chapter talks about what goes underneath the hood when we train functions. What sklearn does automatically for you. \n",
    "\n",
    "(Read most of the chapter and realized have no idea what's going on. Watching the youtube videos by StatQuest to gain a more basic, non-mathematical understanding). \n",
    "\n",
    "Bias - the inability for the machine learning model to capture the true relationship of data. Linear Regression does not curve and therefore has high bias. (i.e. the mistake from true relationship). We use the sum of squares (distance from true data to the model), also mean squared error to calculate bias. High bias means underfitting. How good a model is. \n",
    "\n",
    "Variance - the difference in fits between data sets. i.e. a model can have very low bias on one dataset because it adapts to it completely, but when faced with another dataset there is very high bias - this is called variance. Because the model fits the training set too well, it has overfit. How consistent a model is. \n",
    "\n",
    "Example: straight line has high bias but low variance, squiggly line has low bias but high variance\n",
    "\n",
    "In conclusion, we want a model with low bias and variance - i.e. the sweet spot between a simple model which underfits and an overly complex model which overfits the training data. 3 techniques we use is regularization, boosting and bagging. \n",
    "\n",
    "##### Important Distinctions:\n",
    "Linear Regression - fitting a line to training data, predicting continuous data <br>\n",
    "Logistic Regression - fitting an S shaped logistic function, predicting the probability whether something is true or false. Used for classification. \n",
    "\n",
    "Gradient Descent - method used, on all training models, for optimization - which is to reduce the cost function. \n"
   ]
  },
  {
   "cell_type": "markdown",
   "metadata": {},
   "source": [
    "# Linear Regression\n",
    "\n",
    "Using a straight line to fit the data - it usually fails to accurately represent the correlations. It's also called least squares. (MSE)"
   ]
  },
  {
   "cell_type": "code",
   "execution_count": 2,
   "metadata": {},
   "outputs": [
    {
     "data": {
      "text/plain": [
       "array([[4.11504624],\n",
       "       [2.77567348]])"
      ]
     },
     "execution_count": 2,
     "metadata": {},
     "output_type": "execute_result"
    }
   ],
   "source": [
    "# The Normal Equation\n",
    "\n",
    "X = 2 * np.random.rand(100, 1)\n",
    "y = 4 + 3 * X + np.random.randn(100, 1)\n",
    "\n",
    "X_b = np.c_[np.ones((100, 1)), X] # adding x0=1 to each instance\n",
    "# Using the normal equation to compute theta best\n",
    "theta_best = np.linalg.inv(X_b.T.dot(X_b)).dot(X_b.T).dot(y) # inv computes the inverse of a matrix\n",
    "\n",
    "theta_best\n",
    "# Correct answers is 4 and 3 - close enough due to noise"
   ]
  },
  {
   "cell_type": "code",
   "execution_count": 3,
   "metadata": {},
   "outputs": [
    {
     "name": "stdout",
     "output_type": "stream",
     "text": [
      "[[4.11504624]\n",
      " [9.6663932 ]]\n"
     ]
    },
    {
     "data": {
      "image/png": "[encoded data removed]",
      "text/plain": [
       "<Figure size 432x288 with 1 Axes>"
      ]
     },
     "metadata": {
      "needs_background": "light"
     },
     "output_type": "display_data"
    }
   ],
   "source": [
    "# Using the theta best - best set of hyperparameters, to predict values\n",
    "X_new = np.array([[0], [2]])\n",
    "X_new_b = np.c_[np.ones((2, 1)), X_new]\n",
    "y_predict = X_new_b.dot(theta_best)\n",
    "\n",
    "print(y_predict)\n",
    "\n",
    "plt.plot(X_new, y_predict, 'r-')\n",
    "plt.plot(X, y, 'b.')\n",
    "plt.axis([0, 2, 0, 15])\n",
    "plt.show()"
   ]
  },
  {
   "cell_type": "code",
   "execution_count": 4,
   "metadata": {},
   "outputs": [
    {
     "name": "stdout",
     "output_type": "stream",
     "text": [
      "[4.11504624] [[2.77567348]]\n",
      "[[4.11504624]\n",
      " [9.6663932 ]]\n",
      "[[4.11504624]\n",
      " [2.77567348]]\n"
     ]
    }
   ],
   "source": [
    "from sklearn.linear_model import LinearRegression\n",
    "\n",
    "lin_reg = LinearRegression()\n",
    "lin_reg.fit(X, y)\n",
    "print(lin_reg.intercept_, lin_reg.coef_)\n",
    "print(lin_reg.predict(X_new))\n",
    "\n",
    "theta_best_svd, residuals, rank, s = np.linalg.lstsq(X_b, y, rcond=1e-6)\n",
    "print(theta_best_svd)"
   ]
  },
  {
   "cell_type": "code",
   "execution_count": 5,
   "metadata": {},
   "outputs": [
    {
     "data": {
      "text/plain": [
       "array([[4.11504624],\n",
       "       [2.77567348]])"
      ]
     },
     "execution_count": 5,
     "metadata": {},
     "output_type": "execute_result"
    }
   ],
   "source": [
    "# The pseudoinverse of X (Moore-Penrose)\n",
    "np.linalg.pinv(X_b).dot(y)"
   ]
  },
  {
   "cell_type": "markdown",
   "metadata": {},
   "source": [
    "The pseudoinverse is computed using standard matrix factorization called Singular Value Decomposition (SVD) and decomposes the training set X into matrix multiplication of the matrices U Σ V^T. It's computed as X^+ = VΣ^+U^T.\n",
    "\n",
    "For matrix Σ^T, algorithm sets all values of Σ thats smaller than the threshold value, replaces non-zeroes with their inverse, and finally transposes the resulting matrix. More effecient than computing the Normal Equation, and handles edge cases nicely. "
   ]
  },
  {
   "cell_type": "markdown",
   "metadata": {},
   "source": [
    "# Gradient Descent\n",
    "\n",
    "To tweak parameters iteratively to minimize a cost function. \n",
    "\n",
    "Starts by filling θ with random values (random initialization), and improve it gradually by trying to decrease the cost function (MSE) step by step, until the algorithm converges to a minimum. \n",
    "\n",
    "The learning rate hyperparameter determines the size of the step. Higher the learning rate, shorter the learning time. If it's too high however, it might jump across the valley and make the algorithm diverge instead. \n",
    "\n",
    "Some challenges facing gradient descent include the local minimum (not the global minimum), or plateau (if you give up too early you won't reach the global minimum). Fortunately, for MSE cost function there is no local minimum and is a continuous function - Gradient Descent is guaranteed to reach the global minimum. \n",
    "\n",
    "Feature scaling is important since otherwise it will take much longer to converge.\n",
    "\n",
    "Training a model searches for a combination of model parameters that minimizes the cost function. More parameters a model has, the harder the search is. In the case of Linear Regression, the convex shape really helps. \n",
    "\n",
    "To implement GD you need to compute the gradient of the cost function - partial derivitives. "
   ]
  },
  {
   "cell_type": "markdown",
   "metadata": {},
   "source": [
    "## Batch Gradient Descent\n",
    "\n",
    "Compute all partial derivitives using the entire batch at every step - very slow - however on very large\n",
    "datasets much faster than Normal Equation or SVD decomposition. "
   ]
  },
  {
   "cell_type": "code",
   "execution_count": 6,
   "metadata": {},
   "outputs": [
    {
     "data": {
      "text/plain": [
       "array([[4.11504624],\n",
       "       [2.77567348]])"
      ]
     },
     "execution_count": 6,
     "metadata": {},
     "output_type": "execute_result"
    }
   ],
   "source": [
    "\n",
    "eta = 0.1 # Learning rate\n",
    "n_iterations = 1000\n",
    "m = 100\n",
    "\n",
    "theta = np.random.randn(2, 1) # Random Initialization\n",
    "\n",
    "for iteration in range(n_iterations):\n",
    "    gradients = 2/m * X_b.T.dot(X_b.dot(theta) - y)\n",
    "    theta = theta - eta * gradients\n",
    "    \n",
    "theta\n",
    "\n",
    "# Similar results to the normal equation. \n",
    "\n",
    "# This is due to the learning rate being good. To find this you can use grid search, and limit the number of \n",
    "# iterations. You can set a very large number of iterations but interrupt the algorithm when gradient vector\n",
    "# becomes tiny - when its norm becomes smaller than ϵ (tolerance) - happens when GD almost reaches the minimum. "
   ]
  },
  {
   "cell_type": "markdown",
   "metadata": {},
   "source": [
    "## Stochastic Gradient Descent\n",
    "\n",
    "Batch uses the whole training set to compute the gradients at every step - very slow. SGD is the opposite and  picks a random instance each time, only computing the gradient of that one instance. This way it's possible to train on huge training sets. \n",
    "\n",
    "Instead of gently decreasing until reaching the minimum, SGD will make the cost function bounce up and down, only decreasing on average. Since it never stops, the final parameters are good but hardly ever optimal. \n",
    "\n",
    "It also performs better than batch on irregular cost functions - jumping out of the local minimum. \n",
    "\n",
    "To combat the algorithm never settling at minimum, one can gradually reduce the learning rate - start large (quick progress) then get smaler and smaller. Akin to simulated annealing - when in metallurgy molten metal is slowly cooled down. Learning schedule - the function that dictates the learning function at each iteration. \n",
    "\n",
    "\n",
    "When using SGD, make sure the training instances are independent and identically distributed (IID) to ensure that parameters go towards the global optimum on average. To do this you can shuffle the instances during training (pick each instance randomly, or shuffle the training set at the beginning of each epoch). If this is not done and the training set is label-sorted, then SGD will start optimizing for each label instead of settling close to the global minimum. "
   ]
  },
  {
   "cell_type": "code",
   "execution_count": 7,
   "metadata": {},
   "outputs": [
    {
     "data": {
      "text/plain": [
       "array([[4.1311268],\n",
       "       [2.7682914]])"
      ]
     },
     "execution_count": 7,
     "metadata": {},
     "output_type": "execute_result"
    }
   ],
   "source": [
    "n_epochs = 50\n",
    "t0, t1 = 5, 50 # Learning schedule hyperparameters\n",
    "\n",
    "def learningSchedule(t):\n",
    "    return t0 / (t + t1)\n",
    "\n",
    "theta = np.random.randn(2,1) # Random initialization\n",
    "\n",
    "\n",
    "# We iterate for m iterations - each round is called an epoch. This code only iterates for 50 times and is \n",
    "# pretty good, compared to the batch code which iterated for 1000 times\n",
    "\n",
    "for epoch in range(n_epochs):\n",
    "    for i in range(m):\n",
    "        random_index = np.random.randint(m)\n",
    "        xi = X_b[random_index:random_index+1] # Same to X_b[random_index], but makes an array\n",
    "        yi = y[random_index:random_index+1]\n",
    "        gradients = 2 * xi.T.dot(xi.dot(theta) - yi)\n",
    "        eta = learningSchedule(epoch * m + i) # Learning rate\n",
    "        theta = theta - eta * gradients\n",
    "        \n",
    "theta"
   ]
  },
  {
   "cell_type": "code",
   "execution_count": 8,
   "metadata": {},
   "outputs": [
    {
     "data": {
      "text/plain": [
       "(array([4.07110513]), array([2.74992791]))"
      ]
     },
     "execution_count": 8,
     "metadata": {},
     "output_type": "execute_result"
    }
   ],
   "source": [
    "from sklearn.linear_model import SGDRegressor\n",
    "\n",
    "sgd_reg = SGDRegressor(max_iter=1000, tol=1e-3, penalty=None, eta0=0.1)\n",
    "sgd_reg.fit(X, y.ravel())\n",
    "\n",
    "sgd_reg.intercept_, sgd_reg.coef_\n",
    "\n",
    "# Quite close results"
   ]
  },
  {
   "cell_type": "markdown",
   "metadata": {},
   "source": [
    "## Mini-batch Gradient Descent\n",
    "\n",
    "At each step, instead of computing the gradients based on the full TS (like batch), or just one instance (stochastic), Mini-batch does this on small random sets of instances - mini-batches. Over SGD you get a performance boost from hardware optimization, while still being faster than BGD. \n",
    "\n",
    "It will walk a bit closer to minimum than SGD, but is also more difficult to walk out of the local minima. \n",
    "\n",
    "Note: (m, n) is size of matrix - m (row) * n (column)\n",
    "\n",
    "m - number of instances (x value) - size of training set <br>\n",
    "n - number of features (y value) - size of each instance\n",
    "\n",
    "| Algorithm | Large M | Out-of-core support | Large n | Hyperparams | Scaling required | Scikit-Learn |\n",
    "| :- | :- | :- | :- | :- | :- | :- |\n",
    "| Normal Equation | Fast | No | Slow | 0 | No | n/a |\n",
    "| SVD | Fast | No | Slow | 0 | No | LinearRegression |\n",
    "| Batch GD | Slow | No | Fast | 2 | Yes | SGDRegressor |\n",
    "| Stochastic GD | Fast | Yes | Fast | >=2 | Yes | SGDRegressor |\n",
    "| Mini-batch GD | Fast | Yes | Fast | >=2 | Yes | SGDRegressor |\n"
   ]
  },
  {
   "cell_type": "markdown",
   "metadata": {},
   "source": [
    "# Polynomial Regression\n",
    "\n",
    "Even if the data is more complex than a straight line - a linear model can still be trained to fit nonlinear data. Simply add powers of each feature as new features and train another linear model. This is called Polynomial Regression. "
   ]
  },
  {
   "cell_type": "code",
   "execution_count": 9,
   "metadata": {},
   "outputs": [],
   "source": [
    "# Data that cannot be fit by one line\n",
    "m = 100\n",
    "X = 6 * np.random.randn(m, 1) - 3\n",
    "y = 0.5 * X**2 + X + 2 + np.random.randn(m, 1)"
   ]
  },
  {
   "cell_type": "code",
   "execution_count": 10,
   "metadata": {},
   "outputs": [
    {
     "name": "stdout",
     "output_type": "stream",
     "text": [
      "[0.16529579] [0.16529579 0.0273227 ]\n"
     ]
    },
    {
     "data": {
      "text/plain": [
       "(array([1.95134056]), array([[0.99329084, 0.50015706]]))"
      ]
     },
     "execution_count": 10,
     "metadata": {},
     "output_type": "execute_result"
    }
   ],
   "source": [
    "from sklearn.preprocessing import PolynomialFeatures\n",
    "\n",
    "poly_features = PolynomialFeatures(degree=2, include_bias=False)\n",
    "X_poly = poly_features.fit_transform(X)\n",
    "\n",
    "print(X[0], X_poly[0])\n",
    "\n",
    "# X_poly contains not just the original feature X but also its square. \n",
    "\n",
    "lin_reg = LinearRegression()\n",
    "lin_reg.fit(X_poly, y)\n",
    "lin_reg.intercept_, lin_reg.coef_\n",
    "\n",
    "# PR can find relationships betweens features when there are multiple features. It's because Polynomial features\n",
    "# add all combinations of features to the given degrees."
   ]
  },
  {
   "cell_type": "markdown",
   "metadata": {},
   "source": [
    "# Learning Curves\n",
    "\n",
    "It's important to understand how complex a model has to be - its degree of Polynomial Regression. \n",
    "\n",
    "Cross-validation can be used to estimate a model's generalization performance. If it performs well on training data but generalizes poorly, the model is overfitting. If it performs poorly on both the model would have been underfitting. \n",
    "\n",
    "Another way is looking at the learning curves - plots of the model's performance on the training set and validation set as a function of the training set size. To generate the plots, train the model several times on different sized subsets of the training set."
   ]
  },
  {
   "cell_type": "code",
   "execution_count": 11,
   "metadata": {},
   "outputs": [
    {
     "data": {
      "image/png": "[encoded data removed]",
      "text/plain": [
       "<Figure size 432x288 with 1 Axes>"
      ]
     },
     "metadata": {
      "needs_background": "light"
     },
     "output_type": "display_data"
    }
   ],
   "source": [
    "from sklearn.metrics import mean_squared_error\n",
    "from sklearn.model_selection import train_test_split\n",
    "\n",
    "def plotLearningCurves(model, X, y):\n",
    "    X_train, X_val, y_train, y_val = train_test_split(X, y, test_size=0.2)\n",
    "    train_errors, val_errors = [], []\n",
    "    # A subset\n",
    "    for m in range(1, len(X_train)):\n",
    "        model.fit(X_train[:m], y_train[:m])\n",
    "        y_train_predict = model.predict(X_train[:m])\n",
    "        y_val_predict = model.predict(X_val)\n",
    "        train_errors.append(mean_squared_error(y_train[:m], y_train_predict))\n",
    "        val_errors.append(mean_squared_error(y_val, y_val_predict))\n",
    "        \n",
    "    plt.plot(np.sqrt(train_errors), 'r-+', linewidth=2, label='train')\n",
    "    plt.plot(np.sqrt(val_errors), 'b-', linewidth=3, label='val')\n",
    "    plt.xlabel('Training set size')\n",
    "    plt.ylabel('RMSE')\n",
    "    plt.legend(loc='upper right')\n",
    "    \n",
    "    \n",
    "lin_reg = LinearRegression()\n",
    "plotLearningCurves(lin_reg, X, y)\n",
    "\n",
    "# Learning curves differ a lot, but the general principle is that for the training set, there is a stage when \n",
    "# adding new instances doesn't make the average error much better or worse. For the validation set however,\n",
    "# initially the model is trained on few training instances so cannot generalize properly.\n",
    "\n",
    "# Probably underfitting - adding training examples won't help - use a more complex model or find better features"
   ]
  },
  {
   "cell_type": "code",
   "execution_count": 12,
   "metadata": {},
   "outputs": [
    {
     "data": {
      "text/plain": [
       "(0.0, 80.0, 0.0, 3.0)"
      ]
     },
     "execution_count": 12,
     "metadata": {},
     "output_type": "execute_result"
    },
    {
     "data": {
      "image/png": "[encoded data removed]",
      "text/plain": [
       "<Figure size 432x288 with 1 Axes>"
      ]
     },
     "metadata": {
      "needs_background": "light"
     },
     "output_type": "display_data"
    }
   ],
   "source": [
    "# Using a polynomial regression model\n",
    "\n",
    "from sklearn.pipeline import Pipeline\n",
    "\n",
    "polynomial_regression = Pipeline([\n",
    "    ('poly_features', PolynomialFeatures(degree=10, include_bias=False)),\n",
    "    ('lin_reg', LinearRegression())\n",
    "])\n",
    "\n",
    "plotLearningCurves(polynomial_regression, X, y)\n",
    "plt.axis([0, 80, 0, 3])\n",
    "\n",
    "# Here the error on the training set is much lower\n",
    "# Model performs better on training data than validation data - overfitting model - solved by feeding more\n",
    "# training data until the validation error reaches the training error."
   ]
  },
  {
   "cell_type": "markdown",
   "metadata": {},
   "source": [
    "# Regularized Linear Models\n",
    "\n",
    "Reduce overfitting - regularize the model. Fewer degrees of freedom, harder to overfit the data. A simple way is to reduce the number of polynomial degrees. \n",
    "\n",
    "For a linear model, regularization is achieved by constraining the weights of the model. \n",
    "\n",
    "\n",
    "### Ridge Regression\n",
    "\n",
    "A reguarlized version of Linear Regression. Forces the algorithm to fit the data and also keep the model models as small as possible. Starts with slightly higher bias to achieve low variance. \n",
    "\n",
    "It adds a penalty - lambda * slope^2 to the sum of the squared residuals as used in linear regression. The slope, when more variables are added to the predictor function, becomes all parameters squared except for the y-intercept. i.e. lambda * (parameter a^2 + parameter b^2... etc). The penalty increases bias but reduces variance - it does this by reducing the slope of the line and how sensitive the prediction is to the training data. Higher the lambda, lower the slope of the line. Lambda is usually determined by cross-validation to see which term works the best. \n",
    "\n",
    "Another advantage of ridge regression is the ability to find a solution using ridge regression penalty when there isn't enough datapoints compared to the number of parameters.  \n",
    "\n",
    "A note here that cost functions and performance measures for testing are typically different - as cost functions should have optimization-friendly derivatives, while the performance measure should be close to the final objective. E.g. a classifier trained using a cost function like the log loss, but evaluated using precision/recall.\n",
    "\n",
    "Important to scale the data before performing Ridge Regression as its scale-sensitive. True for most regularized models - scaling is very important. \n",
    "\n",
    "Similar to Linear Regression, RR can be performed either by a closed-form equation, or by performing Gradient Descent. Pros and cons are the same. "
   ]
  },
  {
   "cell_type": "code",
   "execution_count": 13,
   "metadata": {},
   "outputs": [
    {
     "name": "stdout",
     "output_type": "stream",
     "text": [
      "[[2.68211882]]\n",
      "[-3.55028539]\n"
     ]
    }
   ],
   "source": [
    "# An example using a closed-form solution - matrix factorization technique by Cholesky\n",
    "from sklearn.linear_model import Ridge\n",
    "\n",
    "ridge_reg = Ridge(alpha=1, solver='cholesky')\n",
    "ridge_reg.fit(X, y)\n",
    "\n",
    "print(ridge_reg.predict([[1.5]]))\n",
    "\n",
    "# Comparing it to SGD\n",
    "\n",
    "sgd_reg = SGDRegressor(penalty='l2') # specifies the type of regularization term to use\n",
    "sgd_reg.fit(X, y.ravel())\n",
    "print(sgd_reg.predict([[1.5]]))"
   ]
  },
  {
   "cell_type": "markdown",
   "metadata": {},
   "source": [
    "### Lasso Regression\n",
    "\n",
    "Least Absolute Shrinkage and Selection Operator Regression - LASSO. \n",
    "\n",
    "Like Ridge, it adds a regularization term to the cost function, using L1 norm of the weight vector instead of half the square of the L2 norm. \n",
    "\n",
    "It tends to completely eliminate the weights of the least import features (set them to 0). It automatically performs feature selection and outputs a sparse model. "
   ]
  },
  {
   "cell_type": "code",
   "execution_count": 14,
   "metadata": {},
   "outputs": [
    {
     "data": {
      "text/plain": [
       "array([2.68979563])"
      ]
     },
     "execution_count": 14,
     "metadata": {},
     "output_type": "execute_result"
    }
   ],
   "source": [
    "from sklearn.linear_model import Lasso\n",
    "\n",
    "lasso_reg = Lasso(alpha=0.1)\n",
    "lasso_reg.fit(X, y)\n",
    "lasso_reg.predict([[1.5]])"
   ]
  },
  {
   "cell_type": "markdown",
   "metadata": {},
   "source": [
    "### Elastic Net\n",
    "\n",
    "Middle ground between Ridge Regression and Lasso Regression. The mix ratio of Ridge and Lasso's regularization terms r can be changed. When r = 0, EN is the same to Ridge, and when r = 1, it's equivalent to Lasso Regression. \n",
    "\n",
    "It's always preferable to have at least a little bit of regularization - so plain Linear Regression is usually avoided. Ridge is usually good - but if only a few features are actually useful, Lasso or Elastic Net are good at reducing unnecessary features. Lasso may behave erratically sometimes."
   ]
  },
  {
   "cell_type": "code",
   "execution_count": 15,
   "metadata": {},
   "outputs": [
    {
     "data": {
      "text/plain": [
       "array([2.71140699])"
      ]
     },
     "execution_count": 15,
     "metadata": {},
     "output_type": "execute_result"
    }
   ],
   "source": [
    "from sklearn.linear_model import ElasticNet\n",
    "\n",
    "elastic_net = ElasticNet(alpha=0.1, l1_ratio=0.5)\n",
    "elastic_net.fit(X, y)\n",
    "elastic_net.predict([[1.5]])"
   ]
  },
  {
   "cell_type": "markdown",
   "metadata": {},
   "source": [
    "### Early Stopping\n",
    "\n",
    "Another way of regularizing iterative learning algorithms like Gradient Descent is to stop training when validation error reaches a minimum - Early Stopping. \n",
    "\n",
    "As epochs (iterations) go by, the prediction error on both training and validation sets naturally decreases. However, after a while the error on validation actually starts to increase again - a result of the model overfitting the training data. Early stopping stops training when validation error reaches the minimum - a simple and efficient technique called \"beautiful free lunch\". "
   ]
  },
  {
   "cell_type": "code",
   "execution_count": 16,
   "metadata": {},
   "outputs": [],
   "source": [
    "# Setup - not sure why - copied from the official jupyter notebook\n",
    "\n",
    "np.random.seed(42)\n",
    "m = 100\n",
    "X = 6 * np.random.rand(m, 1) - 3\n",
    "y = 2 + X + 0.5 * X**2 + np.random.randn(m, 1)\n",
    "\n",
    "X_train, X_val, y_train, y_val = train_test_split(X[:50], y[:50].ravel(), test_size=0.5, random_state=10)"
   ]
  },
  {
   "cell_type": "code",
   "execution_count": 17,
   "metadata": {},
   "outputs": [],
   "source": [
    "from sklearn.base import clone\n",
    "from sklearn.preprocessing import StandardScaler\n",
    "\n",
    "# prepare the data - simple scaling - refer back to Chapter 2\n",
    "poly_scaler = Pipeline([\n",
    "    ('poly_features', PolynomialFeatures(degree=90, include_bias=False)),\n",
    "    ('std_scaler', StandardScaler())\n",
    "])\n",
    "X_train_poly_scaled = poly_scaler.fit_transform(X_train)\n",
    "X_val_poly_scaled = poly_scaler.transform(X_val)\n",
    "\n",
    "sgd_reg = SGDRegressor(max_iter=1, tol=-np.infty, warm_start=True,\n",
    "                       penalty=None, learning_rate='constant', eta0=0.0005)\n",
    "\n",
    "minimum_val_error = float('inf')\n",
    "best_epoch = None\n",
    "best_model = None\n",
    "\n",
    "for epoch in range(1000):\n",
    "    sgd_reg.fit(X_train_poly_scaled, y_train) # continues where it left off\n",
    "    y_val_predict = sgd_reg.predict(X_val_poly_scaled)\n",
    "    val_error = mean_squared_error(y_val, y_val_predict)\n",
    "    \n",
    "    if val_error < minimum_val_error:\n",
    "        minimum_val_error = val_error\n",
    "        best_epoch = epoch\n",
    "        best_model = clone(sgd_reg)"
   ]
  },
  {
   "cell_type": "markdown",
   "metadata": {},
   "source": [
    "# Logistic Regression\n",
    "\n",
    "Logistic regression is commonly to estimate the probability that an instance belongs to a particularly class. It's a binary classifier - >=50% means 1, the positive class, else 0, the negative class. \n",
    "\n",
    "Just like Linear Regression, it computes a weighted sum of input features and a bias term, but instead of outputing that result directly like LR, it outputs its logistic using the equation sigmoid(t). T, the score, is called the logit.\n",
    "\n",
    "### Training and cost function\n",
    "\n",
    "Training sets the parameter vector theta, so the model estimates high probabilities for positive instances, and low for negative instances. This is captured by the cost function, high if it predicts 0 for positive instances and 1 for negative instances. Over the whole training set, it's simply the average cost across all instances. \n",
    "\n",
    "No closed-form equation to compute the optimal theta, but gradient descent (and any other optimization algorithm) is generally used as it's guaranteed to find the global minimum - since the cost function is convex."
   ]
  },
  {
   "cell_type": "markdown",
   "metadata": {},
   "source": [
    "### Decision Boundaries - Illustrated by the Iris Dataset"
   ]
  },
  {
   "cell_type": "code",
   "execution_count": 18,
   "metadata": {},
   "outputs": [],
   "source": [
    "from sklearn import datasets\n",
    "iris = datasets.load_iris()\n",
    "\n",
    "X = iris['data'][:, 3:] # petal width\n",
    "y = (iris['target'] == 2).astype(np.int) # 1 if Iris-Virginica, else 0"
   ]
  },
  {
   "cell_type": "code",
   "execution_count": 19,
   "metadata": {},
   "outputs": [
    {
     "data": {
      "text/plain": [
       "LogisticRegression()"
      ]
     },
     "execution_count": 19,
     "metadata": {},
     "output_type": "execute_result"
    }
   ],
   "source": [
    "from sklearn.linear_model import LogisticRegression\n",
    "\n",
    "log_reg = LogisticRegression()\n",
    "log_reg.fit(X, y)"
   ]
  },
  {
   "cell_type": "code",
   "execution_count": 20,
   "metadata": {},
   "outputs": [
    {
     "data": {
      "text/plain": [
       "Text(0, 0.5, 'Probability')"
      ]
     },
     "execution_count": 20,
     "metadata": {},
     "output_type": "execute_result"
    },
    {
     "data": {
      "image/png": "[encoded data removed]",
      "text/plain": [
       "<Figure size 432x288 with 1 Axes>"
      ]
     },
     "metadata": {
      "needs_background": "light"
     },
     "output_type": "display_data"
    }
   ],
   "source": [
    "# Here reshape -1 means unspecificed - value is inferred from length of the array\n",
    "X_new = np.linspace(0, 3, 1000).reshape(-1, 1) # random new data\n",
    "y_proba = log_reg.predict_proba(X_new) # prediction of this data\n",
    "\n",
    "plt.plot(X_new, y_proba[:, 1], 'g-', label='Iris-Virginica')\n",
    "plt.plot(X_new, y_proba[:, 0], 'b--', label='Not Iris-Virginica')\n",
    "plt.legend(loc='center left')\n",
    "plt.xlabel('Pedal Width')\n",
    "plt.ylabel('Probability')"
   ]
  },
  {
   "cell_type": "markdown",
   "metadata": {},
   "source": [
    "Iris-Virginica flowers are bigger than other flowers, ranging from 1.4 to 2.5cm, while other flowers have petals ranging from 0.1 to 1.8cm. Above 2 and below 1 the classifier is sure of its prediction, but in between it's more difficult. If we ask predict instead of predict_proba, it will just return which class is more likely. \n",
    "\n",
    "The decision boundary is around 1.6cm where both probabilities are similar to 50%. \n",
    "\n",
    "Like other linear models, LR can be regularized using l1 or l2 penalties (Ridge or Lasso). Scikit learn uses l2 by default. The hyperparameter in scikit learn is C. Higher the value of c, less the model is regularized. "
   ]
  },
  {
   "cell_type": "markdown",
   "metadata": {},
   "source": [
    "### Softmax Regression/Multinomial Logistic Regression\n",
    "\n",
    "Softmax regression, or multinomial Logistic Regression, is when the LR model is generalized to support multiple classes, without having to train and combine multiple binary classifiers. \n",
    "\n",
    "When given instance x, it will compute the score for each class k (using the Linear Regression equation), and estimates the probability for each class applying the softmax function.\n",
    "\n",
    "Just like LR, Softmax classifier predicts the class with the highest estimated probability. On an important note, however, Softmax only predicts one class at a time (multiclass and not multioutput), so can be used with different catagories of things, but cannot be used to recognise multiple faces in the same picture. \n",
    "\n",
    "For training, we want a model to estimate high probability for the target class and low probability for all subsequence classes. The process of minimizing the cost function, called the cross entropy, penalizes the model when it estimates a low probability for a target class and achieves the objective. \n",
    "\n",
    "It's basically logistic regression, but more mutiple mutually exclusive classes. You pass it a data like the petal data, it will output which class it belongs to and the probability. "
   ]
  },
  {
   "cell_type": "code",
   "execution_count": 21,
   "metadata": {},
   "outputs": [
    {
     "data": {
      "text/plain": [
       "LogisticRegression(C=10, multi_class='multinomial')"
      ]
     },
     "execution_count": 21,
     "metadata": {},
     "output_type": "execute_result"
    }
   ],
   "source": [
    "X = iris['data'][:, (2, 3)]\n",
    "y = iris['target']\n",
    "\n",
    "softmax_reg = LogisticRegression(multi_class='multinomial', solver='lbfgs', C=10)\n",
    "softmax_reg.fit(X, y)"
   ]
  },
  {
   "cell_type": "code",
   "execution_count": 22,
   "metadata": {},
   "outputs": [
    {
     "name": "stdout",
     "output_type": "stream",
     "text": [
      "[2]\n",
      "[[6.38014896e-07 5.74929995e-02 9.42506362e-01]]\n"
     ]
    }
   ],
   "source": [
    "print(softmax_reg.predict([[5, 2]]))\n",
    "print(softmax_reg.predict_proba([[5, 2]]))"
   ]
  }
 ],
 "metadata": {
  "kernelspec": {
   "display_name": "Python 3 (ipykernel)",
   "language": "python",
   "name": "python3"
  },
  "language_info": {
   "codemirror_mode": {
    "name": "ipython",
    "version": 3
   },
   "file_extension": ".py",
   "mimetype": "text/x-python",
   "name": "python",
   "nbconvert_exporter": "python",
   "pygments_lexer": "ipython3",
   "version": "3.8.10"
  }
 },
 "nbformat": 4,
 "nbformat_minor": 1
}
