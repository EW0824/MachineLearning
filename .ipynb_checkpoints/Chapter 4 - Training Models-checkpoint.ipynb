{
 "cells": [
  {
   "cell_type": "code",
   "execution_count": 8,
   "metadata": {},
   "outputs": [],
   "source": [
    "import numpy as np\n",
    "\n",
    "from matplotlib import pyplot as plt"
   ]
  },
  {
   "cell_type": "markdown",
   "metadata": {},
   "source": [
    "This chapter talks about what goes underneath the hood when we train functions. What sklearn does automatically for you. "
   ]
  },
  {
   "cell_type": "markdown",
   "metadata": {},
   "source": [
    "# Linear Regression"
   ]
  },
  {
   "cell_type": "code",
   "execution_count": 4,
   "metadata": {},
   "outputs": [
    {
     "data": {
      "text/plain": [
       "array([[4.00655054],\n",
       "       [2.89346409]])"
      ]
     },
     "execution_count": 4,
     "metadata": {},
     "output_type": "execute_result"
    }
   ],
   "source": [
    "# The Normal Equation\n",
    "\n",
    "X = 2 * np.random.rand(100, 1)\n",
    "y = 4 + 3 * X + np.random.randn(100, 1)\n",
    "\n",
    "X_b = np.c_[np.ones((100, 1)), X] # adding x0=1 to each instance\n",
    "# Using the normal equation to compute theta best\n",
    "theta_best = np.linalg.inv(X_b.T.dot(X_b)).dot(X_b.T).dot(y) # inv computes the inverse of a matrix\n",
    "\n",
    "theta_best\n",
    "# Correct answers is 4 and 3 - close enough due to noise"
   ]
  },
  {
   "cell_type": "code",
   "execution_count": 10,
   "metadata": {},
   "outputs": [
    {
     "name": "stdout",
     "output_type": "stream",
     "text": [
      "[[4.00655054]\n",
      " [9.79347873]]\n"
     ]
    },
    {
     "data": {
      "image/png": "[encoded data removed]",
      "text/plain": [
       "<Figure size 432x288 with 1 Axes>"
      ]
     },
     "metadata": {
      "needs_background": "light"
     },
     "output_type": "display_data"
    }
   ],
   "source": [
    "# Using the theta best - best set of hyperparameters, to predict values\n",
    "X_new = np.array([[0], [2]])\n",
    "X_new_b = np.c_[np.ones((2, 1)), X_new]\n",
    "y_predict = X_new_b.dot(theta_best)\n",
    "\n",
    "print(y_predict)\n",
    "\n",
    "plt.plot(X_new, y_predict, 'r-')\n",
    "plt.plot(X, y, 'b.')\n",
    "plt.axis([0, 2, 0, 15])\n",
    "plt.show()"
   ]
  },
  {
   "cell_type": "code",
   "execution_count": 14,
   "metadata": {},
   "outputs": [
    {
     "name": "stdout",
     "output_type": "stream",
     "text": [
      "[4.00655054] [[2.89346409]]\n",
      "[[4.00655054]\n",
      " [9.79347873]]\n",
      "[[4.00655054]\n",
      " [2.89346409]]\n"
     ]
    }
   ],
   "source": [
    "from sklearn.linear_model import LinearRegression\n",
    "\n",
    "lin_reg = LinearRegression()\n",
    "lin_reg.fit(X, y)\n",
    "print(lin_reg.intercept_, lin_reg.coef_)\n",
    "print(lin_reg.predict(X_new))\n",
    "\n",
    "theta_best_svd, residuals, rank, s = np.linalg.lstsq(X_b, y, rcond=1e-6)\n",
    "print(theta_best_svd)"
   ]
  },
  {
   "cell_type": "code",
   "execution_count": 15,
   "metadata": {},
   "outputs": [
    {
     "data": {
      "text/plain": [
       "array([[4.00655054],\n",
       "       [2.89346409]])"
      ]
     },
     "execution_count": 15,
     "metadata": {},
     "output_type": "execute_result"
    }
   ],
   "source": [
    "# The pseudoinverse of X (Moore-Penrose)\n",
    "np.linalg.pinv(X_b).dot(y)"
   ]
  },
  {
   "cell_type": "markdown",
   "metadata": {},
   "source": [
    "The pseudoinverse is computed using standard matrix factorization called Singular Value Decomposition (SVD) and decomposes the training set X into matrix multiplication of the matrices U Σ V^T. It's computed as X^+ = VΣ^+U^T.\n",
    "\n",
    "For matrix Σ^T, algorithm sets all values of Σ thats smaller than the threshold value, replaces non-zeroes with their inverse, and finally transposes the resulting matrix. More effecient than computing the Normal Equation, and handles edge cases nicely. "
   ]
  },
  {
   "cell_type": "markdown",
   "metadata": {},
   "source": [
    "# Gradient Descent\n",
    "\n",
    "To tweak parameters iteratively to minimize a cost function. \n",
    "\n",
    "Starts by filling θ with random values (random initialization), and improve it gradually by trying to decrease the cost function (MSE) step by step, until the algorithm converges to a minimum. \n",
    "\n",
    "The learning rate hyperparameter determines the size of the step. Higher the learning rate, shorter the learning time. If it's too high however, it might jump across the valley and make the algorithm diverge instead. \n",
    "\n",
    "Some challenges facing gradient descent include the local minimum (not the global minimum), or plateau (if you give up too early you won't reach the global minimum). Fortunately, for MSE there is no local minimum and is a continuous function - Gradient Descent is guaranteed to reach the global minimum. \n",
    "\n",
    "Feature scaling is important since otherwise it will take much longer to converge.\n",
    "\n",
    "Training a model searches for a combination of model parameters that minimizes the cost function. More parameters a model has, the harder the search is. In the case of Linear Regression, the convex shape really helps. "
   ]
  },
  {
   "cell_type": "code",
   "execution_count": 18,
   "metadata": {},
   "outputs": [
    {
     "data": {
      "text/plain": [
       "array([[4.00655054],\n",
       "       [2.89346409]])"
      ]
     },
     "execution_count": 18,
     "metadata": {},
     "output_type": "execute_result"
    }
   ],
   "source": [
    "# To implement GD you need to compute the gradient of the cost function - partial derivitives. \n",
    "\n",
    "# Batch Gradient Descent\n",
    "# Compute all partial derivitives using the entire batch at every step - very slow - however on very large\n",
    "# datasets much faster than Normal Equation or SVD decomposition. \n",
    "\n",
    "eta = 0.1 # Learning rate\n",
    "n_iterations = 1000\n",
    "m = 100\n",
    "\n",
    "theta = np.random.randn(2, 1) # Random Initialization\n",
    "\n",
    "for iteration in range(n_iterations):\n",
    "    gradients = 2/m * X_b.T.dot(X_b.dot(theta) - y)\n",
    "    theta = theta - eta * gradients\n",
    "    \n",
    "theta\n",
    "\n",
    "# Similar results to the normal equation. \n",
    "\n",
    "# This is due to the learning rate being good. To find this you can use grid searth, and limit the number of \n",
    "# iterations. You can set a very large number of iterations but interrupt the algorithm when gradient vector\n",
    "# becomes tiny - when its norm becomes smaller than ϵ (tolerance) - happens when GD almost reaches the minimum. "
   ]
  },
  {
   "cell_type": "markdown",
   "metadata": {},
   "source": []
  }
 ],
 "metadata": {
  "kernelspec": {
   "display_name": "Python 3",
   "language": "python",
   "name": "python3"
  },
  "language_info": {
   "codemirror_mode": {
    "name": "ipython",
    "version": 3
   },
   "file_extension": ".py",
   "mimetype": "text/x-python",
   "name": "python",
   "nbconvert_exporter": "python",
   "pygments_lexer": "ipython3",
   "version": "3.8.2"
  }
 },
 "nbformat": 4,
 "nbformat_minor": 1
}
