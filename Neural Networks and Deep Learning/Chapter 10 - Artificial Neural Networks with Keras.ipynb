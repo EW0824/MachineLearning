{
 "cells": [
  {
   "cell_type": "markdown",
   "metadata": {
    "collapsed": true,
    "pycharm": {
     "is_executing": true
    }
   },
   "source": [
    "# Artificial Neural Networks with Keras\n",
    "\n",
    "FINALLY - lets goooo - Neural Networks, I've come to bargain!\n"
   ]
  },
  {
   "cell_type": "code",
   "execution_count": 1,
   "metadata": {},
   "outputs": [],
   "source": [
    "import numpy as np\n",
    "import pandas as pd\n",
    " \n",
    "%matplotlib inline\n",
    "import matplotlib as mpl\n",
    "import matplotlib.pyplot as plt\n",
    "mpl.rc('axes', labelsize=14)\n",
    "mpl.rc('xtick', labelsize=12)\n",
    "mpl.rc('ytick', labelsize=12)\n",
    "\n",
    "np.random.seed(24)\n",
    "\n",
    "# Ignore useless warnings (see SciPy issue #5998)\n",
    "import warnings\n",
    "warnings.filterwarnings(action=\"ignore\", message=\"^internal gelsd\")"
   ]
  },
  {
   "cell_type": "markdown",
   "metadata": {},
   "source": [
    "Things to look into:\n",
    "\n",
    "- Callbacks\n",
    "- Early Stopping\n",
    "- TensorBoard"
   ]
  },
  {
   "cell_type": "markdown",
   "metadata": {},
   "source": [
    "## From biological to artificial neurons\n",
    "\n",
    "Why this time ANNs might be good:\n",
    "- huge quantity of data available, and ANNs outperform other ML algorithms on complex problems\n",
    "- huge increase in computing powers since the 90s - Moore's law + gaming industry for the GPU cards\n",
    "- better training algorithms\n",
    "- limitations of ANN are benigh in practice\n",
    "- virtuous circle of funding and progress\n",
    "\n",
    "\n",
    "#### The perceptron\n",
    "\n",
    "Based on a threshold logic unit (TLU) - inputs/outputs are not numbers and inputs have weight\n",
    "\n",
    "Computing a weighted sum of its inputs, and then applying a step function to it.\n",
    "h(x) = step(z), where z = w1x1 + w2x2... = x^Tw\n",
    "\n",
    "TLU similar to logistic regression or linear SVM. Computes a linear combination of inputs, and if exceeding a threshold outputing the positive class, else negative. Can be used for simple binary classification.\n",
    "\n",
    "Perceptron has a single layer of TLUs, and all are connected to all the inputs. When all neurons in a layer are connected to all neurons of previous layer, it's called a fully connected layer or dense layer. \n",
    "\n",
    "#### How to train perceptron:\n",
    "\n",
    "Inspired by Hebb's rule - connection weights between 2 neurons increases when they have the same output. The training uses this rule and takes into account the network error and reduces it. The perceptron feeds 1 training instance at a time, and for each instance makes predictions. For output neurons making wrong predictions, it reinforces the connection weights from the iputs that would have helped to make it correct.  \n",
    "\n",
    "Output neuron decision boundaries are linear, so they can't learn complex pattersn (like logistic regression classifiers). \n",
    "\n",
    "\n",
    "Many expected highly from perceptrons, but it's similar to stochastic gradient descent - incapable of solving some trivial problems like simple linear classification models. Many, disappointed, dropped neural networks altogether."
   ]
  },
  {
   "cell_type": "code",
   "execution_count": 2,
   "metadata": {},
   "outputs": [
    {
     "data": {
      "text/plain": [
       "array([0])"
      ]
     },
     "execution_count": 2,
     "metadata": {},
     "output_type": "execute_result"
    }
   ],
   "source": [
    "import numpy as np\n",
    "from sklearn.datasets import load_iris\n",
    "from sklearn.linear_model import Perceptron\n",
    "\n",
    "iris = load_iris()\n",
    "X = iris.data[:, (2, 3)]\n",
    "y = (iris.target == 0).astype(int)\n",
    "\n",
    "per_clf = Perceptron()\n",
    "per_clf.fit(X, y)\n",
    "\n",
    "per_clf.predict([[2, 0.5]])"
   ]
  },
  {
   "cell_type": "markdown",
   "metadata": {},
   "source": [
    "### Multi-layer Perceptron and Backpropagation\n",
    "\n",
    "MLP contains one input layer, one or more layers of TLUs (hidden layers) and one final layer of TLUs called the output layer. Every layer, (except output) contains a bias neuron and is fully connected to the next layer. \n",
    "\n",
    "Signal flows in one direction - example of feedforward neural network (FNN)\n",
    "\n",
    "Backpropagation - 1986, gradient descent using an effecient technique computing the gradients automatically. It can find out how each connection weight and bias term should be tweaked in order to reduce the error. Once gradients are found, it just performs a regular Gradient Descent step, and the whole process is repeated until the network converges to the solution. \n",
    "\n",
    "Auto gradient computation is called automatic differentiation, or autodiff. Backpropagation uses reverse-mode autodiff - fast/precise and suited when function differentiates many variables with few outputs.\n",
    "\n",
    "\n",
    "<br>\n",
    "<font color='green'><b>BACKPROPAGATION:</b></font>\n",
    "\n",
    "<font color='blue'> \n",
    "<br>\n",
    "    \n",
    "- 1 mini-batch at a time. Goes through the training set multiple times - each pass = epoch\n",
    "- Each mini-batch passed from one layer to the next - forward pass - same as making predictions\n",
    "- Algorithm measures output error - uses loss function comparing desired output with actual output\n",
    "- Computes how much each output connection contributed to that error - applying the chain rule\n",
    "- Measures how error contributions came from each connection in the layer below - using the chain rule again, until it reaches the input layer. It measures the error gradient across all connection weights by propagating the error gradient backward through the network.\n",
    "- Algorithm performs Gradient Descent, tweaking all connection weights in the network, using the error gradients just computed.\n",
    "</font>\n",
    "\n",
    "<br>\n",
    "Summary:\n",
    "\n",
    "- Prediction for each training instance\n",
    "- Measures error\n",
    "- Goes back to layers in reverse measuring the error contribution from each connection\n",
    "- Tweaks the connection weights to reduce error\n",
    "\n",
    "\n",
    "<b>Must randomly initilaize the weights.</b>\n",
    "\n",
    "For backpropagation to work, the step function of the MLP was replaced with a logistic function. (sigmoid=a type of logistic function)\n",
    "\n",
    "Other activation functions:\n",
    "- Hyperbolic tangent function (tanh) - S-shaped, continuous and differntiable - output ranges from -1 to 1. Speeds up convergence.\n",
    "- Rectified Linear Unit function (ReLU) - continuous but not differentiable at 0 - fast to compute - no maximum output and reduces Gradient Descent issues.\n",
    "\n",
    "Generally ReLU is preferred due to the vanishing gradient problem (gradients are too small (vanish), preventing the weight changes. Worst case the ANN stops training).\n",
    "\n",
    "\n",
    "Why we have activation functions:\n",
    "\n",
    "If chain contains only linear transformations, like f(x)=3x+2, g(x)=10x, then the output is still linear. Without non-linearity, the stack of layers is still a single layer."
   ]
  },
  {
   "cell_type": "markdown",
   "metadata": {},
   "source": [
    "### Regression MLPs\n",
    "\n",
    "A single prediction only needs a single output neuron. For multivariate regressions (multiple values), one output neuron is required for every output dimension. E.g centre of image requires 2 output neurons (x,y coordinates).\n",
    "\n",
    "For regression, activation functions are not needed, so they can output any range of values. The softplus activation function makes sure otuput are always positive, and the logistic or hyperbolic tangent function guarantees the outputs to always fall within a given range of values, by scaling the labels to the appropirate range. \n",
    "\n",
    "The loss function is typically the mean squared error. The mean absolute error used when lots of outliers. Huber Loss is the combination of both. \n",
    "\n",
    "\n",
    "| Hyperparameter | Typical Value |\n",
    "| :-- | :-- |\n",
    "| # input neurons | One per input feature (e.g., 28 x 28 = 784 for MNIST) |\n",
    "| # hidden layers | Depends on the problem. Typically 1 to 5. |\n",
    "| # neurons per hidden layer | Depends on the problem. Typically 10 to 100. |\n",
    "| output neurons | 1 per prediction dimension |\n",
    "| Hidden activation | ReLU (or SELU, see Chapter 11) |\n",
    "| Output activation | None or ReLU/Softplus (if positive outputs) or Logistic/Tanh (if bounded outputs) |\n",
    "| Loss function | MSE or MAE/Huber (if outliers) |\n"
   ]
  },
  {
   "cell_type": "markdown",
   "metadata": {},
   "source": [
    "### Classification MLPs\n",
    "\n",
    "For binary classification, just a single output neuron using the logistic activation function is good, estimating a probability. MLPs also great with multilabel binary classification tasks, just needing more output neurons. \n",
    "\n",
    "Multiclass classification, is when each instance belongs only to a single class. One output neuron per class and using the softmax activation function. \n",
    "\n",
    "Since predicting probability distributions, cross-entropy is usually good for the loss function. <br>\n",
    "\n",
    "\n",
    "| Hyperparameter | Binary classification | Multilabel binary classification | Multiclass classifiation |\n",
    "| :-- | :-- | :-- | :-- |\n",
    "| Input and hidden layers | Same as regression | Same as regression | Same as regression |\n",
    "| # output neurons | 1 |  1 per label | 1 per class |\n",
    "| Output layer activation | Logistic | Logistic | Softmax |\n",
    "| Loss function | Cross-Entropy | Cross-Entropy | Cross-Entropy"
   ]
  },
  {
   "cell_type": "markdown",
   "metadata": {},
   "source": [
    "#### Definition of Cross-Entropy (according to the author of this book Aurelien Geron's YouTube channel)\n",
    "\n",
    "Entropy is, invented by Shannon in Information Theory, a metrics of the usefulness of the information of a variable from a distribution p. Say for the weather, the more constant/predictable the weather is, the less entropy for the forecast. The more varied, the greater the entropy. Shannon says a bit reduces the uncertainty by a factor of 2 (0/1), so for 8 possible outcomes, the information about the right outcome contains log2(8) = 3 bits of information. \n",
    "\n",
    "Cross-entropy is the cost of this information. It's the number of bits required to encode the information. Higher the entropy, higher the number of outcomes hence higher the number of bits. Cross entropy >= entropy, so we want to minimize it by predicting the right probability of each outcome."
   ]
  },
  {
   "cell_type": "markdown",
   "metadata": {},
   "source": [
    "# Implementing MLPs with Keras"
   ]
  },
  {
   "cell_type": "code",
   "execution_count": 3,
   "metadata": {},
   "outputs": [
    {
     "name": "stdout",
     "output_type": "stream",
     "text": [
      "2.4.0-rc0\n"
     ]
    }
   ],
   "source": [
    "import tensorflow as tf\n",
    "from tensorflow import keras\n",
    "\n",
    "print (tf.__version__)"
   ]
  },
  {
   "cell_type": "code",
   "execution_count": 4,
   "metadata": {},
   "outputs": [],
   "source": [
    "keras.backend.clear_session()\n",
    "np.random.seed(24)\n",
    "tf.random.set_seed(24)"
   ]
  },
  {
   "cell_type": "markdown",
   "metadata": {},
   "source": [
    "## Image Classifier - Sequential API"
   ]
  },
  {
   "cell_type": "code",
   "execution_count": 5,
   "metadata": {},
   "outputs": [
    {
     "data": {
      "text/plain": [
       "(60000, 28, 28)"
      ]
     },
     "execution_count": 5,
     "metadata": {},
     "output_type": "execute_result"
    }
   ],
   "source": [
    "fashion_mnist = keras.datasets.fashion_mnist\n",
    "(X_train_full, y_train_full), (X_test, y_test) = fashion_mnist.load_data()\n",
    "\n",
    "# Image represented as 28*28 array instead of 1D array of 784\n",
    "X_train_full.shape"
   ]
  },
  {
   "cell_type": "code",
   "execution_count": 6,
   "metadata": {},
   "outputs": [
    {
     "data": {
      "text/plain": [
       "'Coat'"
      ]
     },
     "execution_count": 6,
     "metadata": {},
     "output_type": "execute_result"
    }
   ],
   "source": [
    "# We are using Gradient Descent, so must scale input features. For simplicity scaling the pixel intensities down\n",
    "# to 0~1 range by division by 255.0.\n",
    "\n",
    "# Validation Sets\n",
    "X_valid, X_train = X_train_full[:5000] / 255.0, X_train_full[5000:] / 255.0\n",
    "y_valid, y_train = y_train_full[:5000], y_train_full[5000:]\n",
    "\n",
    "class_names = ['T-shirt/top', 'Trouser', 'Pullover', 'Dress', 'Coat', 'Sandal', 'Shirt', 'Sneaker', 'Bag', 'Ankle Boot']\n",
    "\n",
    "class_names[y_train[0]]"
   ]
  },
  {
   "cell_type": "code",
   "execution_count": 7,
   "metadata": {},
   "outputs": [
    {
     "data": {
      "image/png": "[encoded data removed]",
      "text/plain": [
       "<Figure size 864x345.6 with 40 Axes>"
      ]
     },
     "metadata": {
      "needs_background": "light"
     },
     "output_type": "display_data"
    }
   ],
   "source": [
    "n_rows = 4\n",
    "n_cols = 10\n",
    "plt.figure(figsize=(n_cols * 1.2, n_rows * 1.2))\n",
    "for row in range(n_rows):\n",
    "    for col in range(n_cols):\n",
    "        index = n_cols * row + col\n",
    "        plt.subplot(n_rows, n_cols, index + 1)\n",
    "        plt.imshow(X_train[index], cmap=\"binary\", interpolation=\"nearest\")\n",
    "        plt.axis('off')\n",
    "        plt.title(class_names[y_train[index]], fontsize=12)\n",
    "plt.subplots_adjust(wspace=0.2, hspace=0.5)\n",
    "plt.show()"
   ]
  },
  {
   "cell_type": "code",
   "execution_count": 8,
   "metadata": {},
   "outputs": [],
   "source": [
    "# Creating model using the Sequential API\n",
    "\n",
    "model = keras.models.Sequential() # A sequential model - simpliest - networks with single stack of layers\n",
    "model.add(keras.layers.Flatten(input_shape=[28, 28])) # Input - convert each image into 1D array - simple preprocessing - could also add keras.layers.InputLayer as first layer\n",
    "model.add(keras.layers.Dense(300, activation='relu')) # 2 Hidden\n",
    "model.add(keras.layers.Dense(100, activation='relu'))\n",
    "model.add(keras.layers.Dense(10, activation='softmax')) # Output - 10 neurons since one per class - using softmax because classes are exclusive\n",
    "\n",
    "# Alternative method\n",
    "\n",
    "model = keras.models.Sequential([\n",
    "    keras.layers.Flatten(input_shape=[28, 28]),\n",
    "    keras.layers.Dense(300, activation=\"relu\"),\n",
    "    keras.layers.Dense(100, activation=\"relu\"),\n",
    "    keras.layers.Dense(10, activation=\"softmax\")\n",
    "])\n",
    "\n",
    "# If using keras.io will need to change imports"
   ]
  },
  {
   "cell_type": "code",
   "execution_count": 9,
   "metadata": {},
   "outputs": [
    {
     "name": "stdout",
     "output_type": "stream",
     "text": [
      "Model: \"sequential_1\"\n",
      "_________________________________________________________________\n",
      "Layer (type)                 Output Shape              Param #   \n",
      "=================================================================\n",
      "flatten_1 (Flatten)          (None, 784)               0         \n",
      "_________________________________________________________________\n",
      "dense_3 (Dense)              (None, 300)               235500    \n",
      "_________________________________________________________________\n",
      "dense_4 (Dense)              (None, 100)               30100     \n",
      "_________________________________________________________________\n",
      "dense_5 (Dense)              (None, 10)                1010      \n",
      "=================================================================\n",
      "Total params: 266,610\n",
      "Trainable params: 266,610\n",
      "Non-trainable params: 0\n",
      "_________________________________________________________________\n"
     ]
    }
   ],
   "source": [
    "model.summary()"
   ]
  },
  {
   "cell_type": "markdown",
   "metadata": {},
   "source": [
    "The first hidden layer has 784 * 300 connection weights, with 300 bias terms, adding up to 235500 parameters. A lot of flexibility to train the data, but could also overfit when there's not much training data.\n",
    "\n",
    "Quite important to specify the input shape. Otherwise will need to wait - over-complication."
   ]
  },
  {
   "cell_type": "code",
   "execution_count": 10,
   "metadata": {},
   "outputs": [
    {
     "data": {
      "text/plain": [
       "[<tensorflow.python.keras.layers.core.Flatten at 0x17d0c4f10>,\n",
       " <tensorflow.python.keras.layers.core.Dense at 0x17d0c43a0>,\n",
       " <tensorflow.python.keras.layers.core.Dense at 0x17d0c54c0>,\n",
       " <tensorflow.python.keras.layers.core.Dense at 0x17c70a0a0>]"
      ]
     },
     "execution_count": 10,
     "metadata": {},
     "output_type": "execute_result"
    }
   ],
   "source": [
    "model.layers"
   ]
  },
  {
   "cell_type": "code",
   "execution_count": 11,
   "metadata": {},
   "outputs": [
    {
     "data": {
      "text/plain": [
       "'dense_3'"
      ]
     },
     "execution_count": 11,
     "metadata": {},
     "output_type": "execute_result"
    }
   ],
   "source": [
    "model.layers[1].name"
   ]
  },
  {
   "cell_type": "code",
   "execution_count": 12,
   "metadata": {},
   "outputs": [
    {
     "data": {
      "text/plain": [
       "'dense_3'"
      ]
     },
     "execution_count": 12,
     "metadata": {},
     "output_type": "execute_result"
    }
   ],
   "source": [
    "model.get_layer('dense_3').name"
   ]
  },
  {
   "cell_type": "code",
   "execution_count": 13,
   "metadata": {},
   "outputs": [
    {
     "name": "stdout",
     "output_type": "stream",
     "text": [
      "(784, 300)\n"
     ]
    },
    {
     "data": {
      "text/plain": [
       "array([[ 0.01602922, -0.02104745, -0.05111342, ..., -0.06733928,\n",
       "         0.06915765, -0.02115244],\n",
       "       [-0.04507483,  0.05844004,  0.01986586, ..., -0.00748346,\n",
       "         0.04337697,  0.06000967],\n",
       "       [-0.01315131, -0.06001927, -0.06194401, ..., -0.04181268,\n",
       "         0.06722248, -0.06550783],\n",
       "       ...,\n",
       "       [-0.05626994,  0.03736684, -0.06354306, ...,  0.06506775,\n",
       "        -0.05847234,  0.01270393],\n",
       "       [-0.021396  ,  0.04599791,  0.00510418, ..., -0.04802985,\n",
       "        -0.06837792,  0.008749  ],\n",
       "       [ 0.06719853, -0.05944727,  0.03433172, ..., -0.01898101,\n",
       "        -0.02750407,  0.06235437]], dtype=float32)"
      ]
     },
     "execution_count": 13,
     "metadata": {},
     "output_type": "execute_result"
    }
   ],
   "source": [
    "weights, biases = model.layers[1].get_weights()\n",
    "\n",
    "print(weights.shape)\n",
    "weights"
   ]
  },
  {
   "cell_type": "code",
   "execution_count": 14,
   "metadata": {},
   "outputs": [
    {
     "name": "stdout",
     "output_type": "stream",
     "text": [
      "(300,)\n"
     ]
    },
    {
     "data": {
      "text/plain": [
       "array([0., 0., 0., 0., 0., 0., 0., 0., 0., 0., 0., 0., 0., 0., 0., 0., 0.,\n",
       "       0., 0., 0., 0., 0., 0., 0., 0., 0., 0., 0., 0., 0., 0., 0., 0., 0.,\n",
       "       0., 0., 0., 0., 0., 0., 0., 0., 0., 0., 0., 0., 0., 0., 0., 0., 0.,\n",
       "       0., 0., 0., 0., 0., 0., 0., 0., 0., 0., 0., 0., 0., 0., 0., 0., 0.,\n",
       "       0., 0., 0., 0., 0., 0., 0., 0., 0., 0., 0., 0., 0., 0., 0., 0., 0.,\n",
       "       0., 0., 0., 0., 0., 0., 0., 0., 0., 0., 0., 0., 0., 0., 0., 0., 0.,\n",
       "       0., 0., 0., 0., 0., 0., 0., 0., 0., 0., 0., 0., 0., 0., 0., 0., 0.,\n",
       "       0., 0., 0., 0., 0., 0., 0., 0., 0., 0., 0., 0., 0., 0., 0., 0., 0.,\n",
       "       0., 0., 0., 0., 0., 0., 0., 0., 0., 0., 0., 0., 0., 0., 0., 0., 0.,\n",
       "       0., 0., 0., 0., 0., 0., 0., 0., 0., 0., 0., 0., 0., 0., 0., 0., 0.,\n",
       "       0., 0., 0., 0., 0., 0., 0., 0., 0., 0., 0., 0., 0., 0., 0., 0., 0.,\n",
       "       0., 0., 0., 0., 0., 0., 0., 0., 0., 0., 0., 0., 0., 0., 0., 0., 0.,\n",
       "       0., 0., 0., 0., 0., 0., 0., 0., 0., 0., 0., 0., 0., 0., 0., 0., 0.,\n",
       "       0., 0., 0., 0., 0., 0., 0., 0., 0., 0., 0., 0., 0., 0., 0., 0., 0.,\n",
       "       0., 0., 0., 0., 0., 0., 0., 0., 0., 0., 0., 0., 0., 0., 0., 0., 0.,\n",
       "       0., 0., 0., 0., 0., 0., 0., 0., 0., 0., 0., 0., 0., 0., 0., 0., 0.,\n",
       "       0., 0., 0., 0., 0., 0., 0., 0., 0., 0., 0., 0., 0., 0., 0., 0., 0.,\n",
       "       0., 0., 0., 0., 0., 0., 0., 0., 0., 0., 0.], dtype=float32)"
      ]
     },
     "execution_count": 14,
     "metadata": {},
     "output_type": "execute_result"
    }
   ],
   "source": [
    "print(biases.shape)\n",
    "biases"
   ]
  },
  {
   "cell_type": "markdown",
   "metadata": {},
   "source": [
    "The dense layer initialized the connection weights randomly (as required), and biases initialized to zeros. Use kernel_initilaizer for a different initialization method, or bias_initializer. "
   ]
  },
  {
   "cell_type": "code",
   "execution_count": 15,
   "metadata": {},
   "outputs": [],
   "source": [
    "### Compiling the Model\n",
    "\n",
    "model.compile(loss='sparse_categorical_crossentropy',\n",
    "              optimizer='sgd',\n",
    "              metrics=['accuracy']) # Can also specify extra metrics to compute during training/evaluation\n",
    "\n",
    "# Full list of losses, optimizers and metrics\n",
    "# https://keras.io/api/losses/\n",
    "# https://keras.io/api/optimizers/\n",
    "# https://keras.io/api/metrics/"
   ]
  },
  {
   "cell_type": "markdown",
   "metadata": {},
   "source": [
    "We use the sparse categorical cross-entrophy loss since we have sparse labels (for each instance there is target classindex), and classes are exclusive. We can use keras.utils.to_categorical to convert sparse to one-hot vector labels. Vise versa use ng.argmax() with axis=1.\n",
    "\n",
    "For optimizer, sgd means we train the model using simple Stochastic Gradient Descent - Keras will do backpropagation (reverse-mode autodiff + Gradient Descent). There are more effecient optimizers.\n",
    "\n",
    "Since it's classifier, useful to specify accuracy in training/evaluation."
   ]
  },
  {
   "cell_type": "code",
   "execution_count": 16,
   "metadata": {},
   "outputs": [
    {
     "name": "stdout",
     "output_type": "stream",
     "text": [
      "Epoch 1/30\n",
      "\r",
      "   1/1719 [..............................] - ETA: 4:20 - loss: 2.4313 - accuracy: 0.2188"
     ]
    },
    {
     "name": "stderr",
     "output_type": "stream",
     "text": [
      "2021-08-06 18:53:15.419156: I tensorflow/compiler/mlir/mlir_graph_optimization_pass.cc:116] None of the MLIR optimization passes are enabled (registered 2)\n",
      "2021-08-06 18:53:15.421293: W tensorflow/core/platform/profile_utils/cpu_utils.cc:126] Failed to get CPU frequency: 0 Hz\n"
     ]
    },
    {
     "name": "stdout",
     "output_type": "stream",
     "text": [
      "1719/1719 [==============================] - 2s 788us/step - loss: 1.0228 - accuracy: 0.6732 - val_loss: 0.5215 - val_accuracy: 0.8224\n",
      "Epoch 2/30\n",
      "1719/1719 [==============================] - 1s 566us/step - loss: 0.5035 - accuracy: 0.8252 - val_loss: 0.4415 - val_accuracy: 0.8546\n",
      "Epoch 3/30\n",
      "1719/1719 [==============================] - 1s 571us/step - loss: 0.4526 - accuracy: 0.8416 - val_loss: 0.4482 - val_accuracy: 0.8424\n",
      "Epoch 4/30\n",
      "1719/1719 [==============================] - 1s 586us/step - loss: 0.4255 - accuracy: 0.8504 - val_loss: 0.3968 - val_accuracy: 0.8670\n",
      "Epoch 5/30\n",
      "1719/1719 [==============================] - 1s 522us/step - loss: 0.3955 - accuracy: 0.8614 - val_loss: 0.3922 - val_accuracy: 0.8620\n",
      "Epoch 6/30\n",
      "1719/1719 [==============================] - 1s 492us/step - loss: 0.3848 - accuracy: 0.8635 - val_loss: 0.4144 - val_accuracy: 0.8606\n",
      "Epoch 7/30\n",
      "1719/1719 [==============================] - 1s 605us/step - loss: 0.3737 - accuracy: 0.8678 - val_loss: 0.3903 - val_accuracy: 0.8632\n",
      "Epoch 8/30\n",
      "1719/1719 [==============================] - 1s 532us/step - loss: 0.3546 - accuracy: 0.8756 - val_loss: 0.3965 - val_accuracy: 0.8612\n",
      "Epoch 9/30\n",
      "1719/1719 [==============================] - 1s 549us/step - loss: 0.3439 - accuracy: 0.8787 - val_loss: 0.3404 - val_accuracy: 0.8792\n",
      "Epoch 10/30\n",
      "1719/1719 [==============================] - 1s 584us/step - loss: 0.3359 - accuracy: 0.8825 - val_loss: 0.3443 - val_accuracy: 0.8786\n",
      "Epoch 11/30\n",
      "1719/1719 [==============================] - 1s 524us/step - loss: 0.3289 - accuracy: 0.8835 - val_loss: 0.3369 - val_accuracy: 0.8796\n",
      "Epoch 12/30\n",
      "1719/1719 [==============================] - 1s 532us/step - loss: 0.3180 - accuracy: 0.8892 - val_loss: 0.3378 - val_accuracy: 0.8820\n",
      "Epoch 13/30\n",
      "1719/1719 [==============================] - 1s 558us/step - loss: 0.3113 - accuracy: 0.8877 - val_loss: 0.3299 - val_accuracy: 0.8858\n",
      "Epoch 14/30\n",
      "1719/1719 [==============================] - 1s 627us/step - loss: 0.2989 - accuracy: 0.8914 - val_loss: 0.3373 - val_accuracy: 0.8788\n",
      "Epoch 15/30\n",
      "1719/1719 [==============================] - 1s 542us/step - loss: 0.2954 - accuracy: 0.8939 - val_loss: 0.3221 - val_accuracy: 0.8820\n",
      "Epoch 16/30\n",
      "1719/1719 [==============================] - 1s 514us/step - loss: 0.2889 - accuracy: 0.8967 - val_loss: 0.3218 - val_accuracy: 0.8852\n",
      "Epoch 17/30\n",
      "1719/1719 [==============================] - 1s 522us/step - loss: 0.2833 - accuracy: 0.9005 - val_loss: 0.3204 - val_accuracy: 0.8848\n",
      "Epoch 18/30\n",
      "1719/1719 [==============================] - 1s 504us/step - loss: 0.2802 - accuracy: 0.8994 - val_loss: 0.3089 - val_accuracy: 0.8946\n",
      "Epoch 19/30\n",
      "1719/1719 [==============================] - 1s 592us/step - loss: 0.2722 - accuracy: 0.9032 - val_loss: 0.3160 - val_accuracy: 0.8860\n",
      "Epoch 20/30\n",
      "1719/1719 [==============================] - 1s 632us/step - loss: 0.2659 - accuracy: 0.9038 - val_loss: 0.3053 - val_accuracy: 0.8948\n",
      "Epoch 21/30\n",
      "1719/1719 [==============================] - 1s 534us/step - loss: 0.2650 - accuracy: 0.9058 - val_loss: 0.3092 - val_accuracy: 0.8870\n",
      "Epoch 22/30\n",
      "1719/1719 [==============================] - 1s 506us/step - loss: 0.2620 - accuracy: 0.9047 - val_loss: 0.3128 - val_accuracy: 0.8894\n",
      "Epoch 23/30\n",
      "1719/1719 [==============================] - 1s 517us/step - loss: 0.2520 - accuracy: 0.9106 - val_loss: 0.3092 - val_accuracy: 0.8910\n",
      "Epoch 24/30\n",
      "1719/1719 [==============================] - 1s 503us/step - loss: 0.2535 - accuracy: 0.9099 - val_loss: 0.3107 - val_accuracy: 0.8866\n",
      "Epoch 25/30\n",
      "1719/1719 [==============================] - 1s 507us/step - loss: 0.2432 - accuracy: 0.9130 - val_loss: 0.3186 - val_accuracy: 0.8852\n",
      "Epoch 26/30\n",
      "1719/1719 [==============================] - 1s 552us/step - loss: 0.2422 - accuracy: 0.9132 - val_loss: 0.3230 - val_accuracy: 0.8852\n",
      "Epoch 27/30\n",
      "1719/1719 [==============================] - 1s 596us/step - loss: 0.2378 - accuracy: 0.9147 - val_loss: 0.3138 - val_accuracy: 0.8868\n",
      "Epoch 28/30\n",
      "1719/1719 [==============================] - 1s 551us/step - loss: 0.2300 - accuracy: 0.9188 - val_loss: 0.2997 - val_accuracy: 0.8942\n",
      "Epoch 29/30\n",
      "1719/1719 [==============================] - 1s 646us/step - loss: 0.2307 - accuracy: 0.9183 - val_loss: 0.2939 - val_accuracy: 0.8954\n",
      "Epoch 30/30\n",
      "1719/1719 [==============================] - 1s 575us/step - loss: 0.2257 - accuracy: 0.9191 - val_loss: 0.3208 - val_accuracy: 0.8856\n"
     ]
    }
   ],
   "source": [
    "history = model.fit(X_train, y_train, epochs=30,\n",
    "                    validation_data = (X_valid, y_valid))\n",
    "\n",
    "# Here 1719 is not the num of training samples but num of batches. It is default to 32 - 55000/32=1718.75."
   ]
  },
  {
   "cell_type": "markdown",
   "metadata": {},
   "source": [
    "NEURAL NETWORK TRAINED!\n",
    "\n",
    "Each epoch, number of instances processed so far, mean training time, the loss and accuracy. With more epochs training loss decreases, and validation accuracy reaches 95%! (8% increase than book). \n",
    "\n",
    "Can also use validation_split instead of passing the entire validation set."
   ]
  },
  {
   "cell_type": "code",
   "execution_count": 17,
   "metadata": {},
   "outputs": [
    {
     "data": {
      "text/plain": [
       "{'verbose': 1, 'epochs': 30, 'steps': 1719}"
      ]
     },
     "execution_count": 17,
     "metadata": {},
     "output_type": "execute_result"
    }
   ],
   "source": [
    "history.params"
   ]
  },
  {
   "cell_type": "code",
   "execution_count": 18,
   "metadata": {},
   "outputs": [
    {
     "data": {
      "image/png": "[encoded data removed]",
      "text/plain": [
       "<Figure size 576x360 with 1 Axes>"
      ]
     },
     "metadata": {
      "needs_background": "light"
     },
     "output_type": "display_data"
    }
   ],
   "source": [
    "import pandas as pd\n",
    "\n",
    "pd.DataFrame(history.history).plot(figsize=(8, 5))\n",
    "plt.grid(True)\n",
    "plt.gca().set_ylim(0, 1)\n",
    "plt.show()"
   ]
  },
  {
   "cell_type": "code",
   "execution_count": null,
   "metadata": {
    "pycharm": {
     "is_executing": true
    }
   },
   "outputs": [],
   "source": [
    "model.evaluate(X_test, y_test)"
   ]
  },
  {
   "cell_type": "code",
   "execution_count": null,
   "metadata": {
    "pycharm": {
     "is_executing": true
    }
   },
   "outputs": [],
   "source": [
    "%debug"
   ]
  },
  {
   "cell_type": "code",
   "execution_count": null,
   "metadata": {
    "pycharm": {
     "is_executing": true
    }
   },
   "outputs": [],
   "source": [
    "X_new = X_test[:3]\n",
    "y_proba = model.predict(X_new)\n",
    "y_proba.round(2)"
   ]
  },
  {
   "cell_type": "code",
   "execution_count": null,
   "metadata": {
    "pycharm": {
     "is_executing": true
    }
   },
   "outputs": [],
   "source": [
    "y_pred = model.predict_classes(X_new)\n",
    "np.array(class_names)[y_pred]"
   ]
  },
  {
   "cell_type": "markdown",
   "metadata": {},
   "source": [
    "## Regression MLP - Sequential API\n",
    "\n",
    "All of the writing is lost due to Jupyter Notebook not autosaving. See actual Book for the details again."
   ]
  },
  {
   "cell_type": "code",
   "execution_count": 19,
   "metadata": {
    "pycharm": {
     "is_executing": true
    }
   },
   "outputs": [],
   "source": [
    "from sklearn.datasets import fetch_california_housing\n",
    "from sklearn.model_selection import train_test_split\n",
    "from sklearn.preprocessing import StandardScaler\n",
    "\n",
    "housing = fetch_california_housing()\n",
    "\n",
    "X_train_full, X_test, y_train_full, y_test = train_test_split(housing.data, housing.target, random_state=42)\n",
    "X_train, X_valid, y_train, y_valid = train_test_split(X_train_full, y_train_full, random_state=42)\n",
    "\n",
    "scaler = StandardScaler()\n",
    "X_train = scaler.fit_transform(X_train) # Fit_Transform on training data\n",
    "X_valid = scaler.transform(X_valid) # Transform on test/validation data - we are also fitting on training data to see how well they fit on test/validation data\n",
    "X_test = scaler.transform(X_test)"
   ]
  },
  {
   "cell_type": "code",
   "execution_count": 20,
   "metadata": {
    "pycharm": {
     "is_executing": true
    }
   },
   "outputs": [
    {
     "name": "stdout",
     "output_type": "stream",
     "text": [
      "Epoch 1/20\n",
      "363/363 [==============================] - 0s 489us/step - loss: 2.6584 - val_loss: 2.2036\n",
      "Epoch 2/20\n",
      "363/363 [==============================] - 0s 414us/step - loss: 0.8374 - val_loss: 0.7102\n",
      "Epoch 3/20\n",
      "363/363 [==============================] - 0s 424us/step - loss: 0.7009 - val_loss: 0.6182\n",
      "Epoch 4/20\n",
      "363/363 [==============================] - 0s 370us/step - loss: 0.6176 - val_loss: 0.5536\n",
      "Epoch 5/20\n",
      "363/363 [==============================] - 0s 368us/step - loss: 0.5834 - val_loss: 0.5708\n",
      "Epoch 6/20\n",
      "363/363 [==============================] - 0s 429us/step - loss: 0.5470 - val_loss: 0.4998\n",
      "Epoch 7/20\n",
      "363/363 [==============================] - 0s 366us/step - loss: 0.5169 - val_loss: 0.5028\n",
      "Epoch 8/20\n",
      "363/363 [==============================] - 0s 379us/step - loss: 0.5232 - val_loss: 0.4759\n",
      "Epoch 9/20\n",
      "363/363 [==============================] - 0s 434us/step - loss: 0.4866 - val_loss: 0.4791\n",
      "Epoch 10/20\n",
      "363/363 [==============================] - 0s 454us/step - loss: 0.4858 - val_loss: 0.4407\n",
      "Epoch 11/20\n",
      "363/363 [==============================] - 0s 413us/step - loss: 0.4580 - val_loss: 0.4374\n",
      "Epoch 12/20\n",
      "363/363 [==============================] - 0s 451us/step - loss: 0.4641 - val_loss: 0.4234\n",
      "Epoch 13/20\n",
      "363/363 [==============================] - 0s 396us/step - loss: 0.4553 - val_loss: 0.4161\n",
      "Epoch 14/20\n",
      "363/363 [==============================] - 0s 359us/step - loss: 0.4515 - val_loss: 0.4129\n",
      "Epoch 15/20\n",
      "363/363 [==============================] - 0s 363us/step - loss: 0.4589 - val_loss: 0.4082\n",
      "Epoch 16/20\n",
      "363/363 [==============================] - 0s 363us/step - loss: 0.4246 - val_loss: 0.4010\n",
      "Epoch 17/20\n",
      "363/363 [==============================] - 0s 378us/step - loss: 0.4309 - val_loss: 0.4008\n",
      "Epoch 18/20\n",
      "363/363 [==============================] - 0s 373us/step - loss: 0.4221 - val_loss: 0.3944\n",
      "Epoch 19/20\n",
      "363/363 [==============================] - 0s 361us/step - loss: 0.4392 - val_loss: 0.3901\n",
      "Epoch 20/20\n",
      "363/363 [==============================] - 0s 357us/step - loss: 0.4221 - val_loss: 0.3926\n",
      "162/162 [==============================] - 0s 225us/step - loss: 0.4144\n"
     ]
    }
   ],
   "source": [
    "model = keras.models.Sequential([\n",
    "    keras.layers.Dense(30, activation=\"relu\", input_shape=X_train.shape[1:]),\n",
    "    keras.layers.Dense(1)\n",
    "])\n",
    "\n",
    "model.compile(loss=\"mean_squared_error\", optimizer=keras.optimizers.SGD(lr=1e-3))\n",
    "\n",
    "history = model.fit(X_train, y_train, epochs=20, validation_data=(X_valid, y_valid))\n",
    "\n",
    "mse_test = model.evaluate(X_test, y_test)\n",
    "X_new = X_test[:3]\n",
    "y_pred = model.predict(X_new)"
   ]
  },
  {
   "cell_type": "code",
   "execution_count": 21,
   "metadata": {
    "pycharm": {
     "is_executing": true
    }
   },
   "outputs": [
    {
     "data": {
      "image/png": "[encoded data removed]",
      "text/plain": [
       "<Figure size 432x288 with 1 Axes>"
      ]
     },
     "metadata": {
      "needs_background": "light"
     },
     "output_type": "display_data"
    }
   ],
   "source": [
    "plt.plot(pd.DataFrame(history.history))\n",
    "plt.grid(True)\n",
    "plt.gca().set_ylim(0, 1)\n",
    "plt.show()"
   ]
  },
  {
   "cell_type": "code",
   "execution_count": 22,
   "metadata": {
    "pycharm": {
     "is_executing": true
    }
   },
   "outputs": [
    {
     "data": {
      "text/plain": [
       "array([[0.5598735],\n",
       "       [1.6664344],\n",
       "       [3.1367192]], dtype=float32)"
      ]
     },
     "execution_count": 22,
     "metadata": {},
     "output_type": "execute_result"
    }
   ],
   "source": [
    "y_pred"
   ]
  },
  {
   "cell_type": "markdown",
   "metadata": {},
   "source": [
    "## Functinoal API\n",
    "\n",
    "More complex topologies."
   ]
  },
  {
   "cell_type": "code",
   "execution_count": 23,
   "metadata": {
    "pycharm": {
     "is_executing": true
    }
   },
   "outputs": [],
   "source": [
    "keras.backend.clear_session()\n",
    "np.random.seed(24)\n",
    "tf.random.set_seed(24)"
   ]
  },
  {
   "cell_type": "code",
   "execution_count": 24,
   "metadata": {
    "pycharm": {
     "is_executing": true
    }
   },
   "outputs": [
    {
     "name": "stdout",
     "output_type": "stream",
     "text": [
      "Model: \"model\"\n",
      "__________________________________________________________________________________________________\n",
      "Layer (type)                    Output Shape         Param #     Connected to                     \n",
      "==================================================================================================\n",
      "input_1 (InputLayer)            [(None, 8)]          0                                            \n",
      "__________________________________________________________________________________________________\n",
      "dense (Dense)                   (None, 30)           270         input_1[0][0]                    \n",
      "__________________________________________________________________________________________________\n",
      "dense_1 (Dense)                 (None, 30)           930         dense[0][0]                      \n",
      "__________________________________________________________________________________________________\n",
      "concatenate (Concatenate)       (None, 38)           0           input_1[0][0]                    \n",
      "                                                                 dense_1[0][0]                    \n",
      "__________________________________________________________________________________________________\n",
      "dense_2 (Dense)                 (None, 1)            39          concatenate[0][0]                \n",
      "==================================================================================================\n",
      "Total params: 1,239\n",
      "Trainable params: 1,239\n",
      "Non-trainable params: 0\n",
      "__________________________________________________________________________________________________\n"
     ]
    }
   ],
   "source": [
    "input_ = keras.layers.Input(shape=X_train.shape[1:])\n",
    "hidden1 = keras.layers.Dense(30, activation=\"relu\")(input_)\n",
    "hidden2 = keras.layers.Dense(30, activation=\"relu\")(hidden1)\n",
    "concat = keras.layers.concatenate([input_, hidden2])\n",
    "output = keras.layers.Dense(1)(concat)\n",
    "\n",
    "model = keras.models.Model(inputs=[input_], outputs=[output])\n",
    "\n",
    "model.summary()"
   ]
  },
  {
   "cell_type": "code",
   "execution_count": 25,
   "metadata": {
    "pycharm": {
     "is_executing": true
    }
   },
   "outputs": [
    {
     "name": "stdout",
     "output_type": "stream",
     "text": [
      "Epoch 1/20\n",
      "363/363 [==============================] - 0s 576us/step - loss: 4.2033 - val_loss: 11.1504\n",
      "Epoch 2/20\n",
      "363/363 [==============================] - 0s 460us/step - loss: 1.0772 - val_loss: 5.9222\n",
      "Epoch 3/20\n",
      "363/363 [==============================] - 0s 476us/step - loss: 0.7586 - val_loss: 4.6784\n",
      "Epoch 4/20\n",
      "363/363 [==============================] - 0s 428us/step - loss: 0.6242 - val_loss: 2.7820\n",
      "Epoch 5/20\n",
      "363/363 [==============================] - 0s 420us/step - loss: 0.6192 - val_loss: 2.1471\n",
      "Epoch 6/20\n",
      "363/363 [==============================] - 0s 443us/step - loss: 0.5459 - val_loss: 1.1012\n",
      "Epoch 7/20\n",
      "363/363 [==============================] - 0s 432us/step - loss: 0.5340 - val_loss: 1.2664\n",
      "Epoch 8/20\n",
      "363/363 [==============================] - 0s 425us/step - loss: 0.5322 - val_loss: 0.5316\n",
      "Epoch 9/20\n",
      "363/363 [==============================] - 0s 423us/step - loss: 0.4916 - val_loss: 1.0215\n",
      "Epoch 10/20\n",
      "363/363 [==============================] - 0s 416us/step - loss: 0.4924 - val_loss: 0.5347\n",
      "Epoch 11/20\n",
      "363/363 [==============================] - 0s 418us/step - loss: 0.4638 - val_loss: 0.5576\n",
      "Epoch 12/20\n",
      "363/363 [==============================] - 0s 432us/step - loss: 0.4685 - val_loss: 0.6814\n",
      "Epoch 13/20\n",
      "363/363 [==============================] - 0s 420us/step - loss: 0.4616 - val_loss: 0.5083\n",
      "Epoch 14/20\n",
      "363/363 [==============================] - 0s 421us/step - loss: 0.4513 - val_loss: 0.4161\n",
      "Epoch 15/20\n",
      "363/363 [==============================] - 0s 413us/step - loss: 0.4599 - val_loss: 0.4246\n",
      "Epoch 16/20\n",
      "363/363 [==============================] - 0s 413us/step - loss: 0.4245 - val_loss: 0.5275\n",
      "Epoch 17/20\n",
      "363/363 [==============================] - 0s 414us/step - loss: 0.4317 - val_loss: 0.4871\n",
      "Epoch 18/20\n",
      "363/363 [==============================] - 0s 419us/step - loss: 0.4189 - val_loss: 0.5606\n",
      "Epoch 19/20\n",
      "363/363 [==============================] - 0s 418us/step - loss: 0.4325 - val_loss: 0.3936\n",
      "Epoch 20/20\n",
      "363/363 [==============================] - 0s 436us/step - loss: 0.4211 - val_loss: 0.4049\n",
      "162/162 [==============================] - 0s 244us/step - loss: 0.4225\n"
     ]
    }
   ],
   "source": [
    "model.compile(loss=\"mean_squared_error\", optimizer=keras.optimizers.SGD(lr=1e-3))\n",
    "\n",
    "history = model.fit(X_train, y_train, epochs=20,\n",
    "                    validation_data=(X_valid, y_valid))\n",
    "\n",
    "mse_test = model.evaluate(X_test, y_test)\n",
    "y_pred = model.predict(X_new)"
   ]
  },
  {
   "cell_type": "markdown",
   "metadata": {},
   "source": [
    "What if you want to send different subsets of input features through the wide or deep paths? We will send 5 features (features 0 to 4), and 6 through the deep path (features 2 to 7). Note that 3 features will go through both (features 2, 3 and 4)."
   ]
  },
  {
   "cell_type": "code",
   "execution_count": 26,
   "metadata": {
    "pycharm": {
     "is_executing": true
    }
   },
   "outputs": [],
   "source": [
    "input_A = keras.layers.Input(shape=[5], name=\"wide_input\")\n",
    "input_B = keras.layers.Input(shape=[6], name=\"deep_input\")\n",
    "hidden1 = keras.layers.Dense(30, activation=\"relu\")(input_B)\n",
    "hidden2 = keras.layers.Dense(30, activation=\"relu\")(hidden1)\n",
    "concat = keras.layers.concatenate([input_A, hidden2])\n",
    "output = keras.layers.Dense(1, name=\"output\")(concat)\n",
    "\n",
    "model = keras.models.Model(inputs=[input_A, input_B], outputs=[output])"
   ]
  },
  {
   "cell_type": "code",
   "execution_count": 27,
   "metadata": {
    "pycharm": {
     "is_executing": true
    }
   },
   "outputs": [
    {
     "name": "stdout",
     "output_type": "stream",
     "text": [
      "Epoch 1/20\n",
      "363/363 [==============================] - 0s 619us/step - loss: 3.2959 - val_loss: 1.0814\n",
      "Epoch 2/20\n",
      "363/363 [==============================] - 0s 440us/step - loss: 0.8007 - val_loss: 0.8208\n",
      "Epoch 3/20\n",
      "363/363 [==============================] - 0s 469us/step - loss: 0.6653 - val_loss: 0.6254\n",
      "Epoch 4/20\n",
      "363/363 [==============================] - 0s 453us/step - loss: 0.6002 - val_loss: 0.5592\n",
      "Epoch 5/20\n",
      "363/363 [==============================] - 0s 461us/step - loss: 0.5715 - val_loss: 0.5278\n",
      "Epoch 6/20\n",
      "363/363 [==============================] - 0s 473us/step - loss: 0.5444 - val_loss: 0.5075\n",
      "Epoch 7/20\n",
      "363/363 [==============================] - 0s 509us/step - loss: 0.5168 - val_loss: 0.4898\n",
      "Epoch 8/20\n",
      "363/363 [==============================] - 0s 507us/step - loss: 0.5173 - val_loss: 0.4755\n",
      "Epoch 9/20\n",
      "363/363 [==============================] - 0s 464us/step - loss: 0.4884 - val_loss: 0.4635\n",
      "Epoch 10/20\n",
      "363/363 [==============================] - 0s 437us/step - loss: 0.4832 - val_loss: 0.4487\n",
      "Epoch 11/20\n",
      "363/363 [==============================] - 0s 425us/step - loss: 0.4571 - val_loss: 0.4382\n",
      "Epoch 12/20\n",
      "363/363 [==============================] - 0s 451us/step - loss: 0.4621 - val_loss: 0.4296\n",
      "Epoch 13/20\n",
      "363/363 [==============================] - 0s 453us/step - loss: 0.4562 - val_loss: 0.4209\n",
      "Epoch 14/20\n",
      "363/363 [==============================] - 0s 438us/step - loss: 0.4489 - val_loss: 0.4141\n",
      "Epoch 15/20\n",
      "363/363 [==============================] - 0s 440us/step - loss: 0.4538 - val_loss: 0.4084\n",
      "Epoch 16/20\n",
      "363/363 [==============================] - 0s 432us/step - loss: 0.4206 - val_loss: 0.4055\n",
      "Epoch 17/20\n",
      "363/363 [==============================] - 0s 439us/step - loss: 0.4307 - val_loss: 0.4015\n",
      "Epoch 18/20\n",
      "363/363 [==============================] - 0s 431us/step - loss: 0.4188 - val_loss: 0.3956\n",
      "Epoch 19/20\n",
      "363/363 [==============================] - 0s 496us/step - loss: 0.4301 - val_loss: 0.3915\n",
      "Epoch 20/20\n",
      "363/363 [==============================] - 0s 479us/step - loss: 0.4150 - val_loss: 0.3940\n",
      "162/162 [==============================] - 0s 307us/step - loss: 0.4142\n"
     ]
    }
   ],
   "source": [
    "model.compile(loss=\"mse\", optimizer=keras.optimizers.SGD(lr=1e-3))\n",
    "\n",
    "X_train_A, X_train_B = X_train[:, :5], X_train[:, 2:]\n",
    "X_valid_A, X_valid_B = X_valid[:, :5], X_valid[:, 2:]\n",
    "X_test_A, X_test_B = X_test[:, :5], X_test[:, 2:]\n",
    "X_new_A, X_new_B = X_test_A[:3], X_test_B[:3]\n",
    "\n",
    "history = model.fit((X_train_A, X_train_B), y_train, epochs=20,\n",
    "                    validation_data=((X_valid_A, X_valid_B), y_valid))\n",
    "\n",
    "\n",
    "mse_test = model.evaluate((X_test_A, X_test_B), y_test)\n",
    "y_pred = model.predict((X_new_A, X_new_B))"
   ]
  },
  {
   "cell_type": "markdown",
   "metadata": {},
   "source": [
    "Auxiliary output for regularization:"
   ]
  },
  {
   "cell_type": "code",
   "execution_count": 28,
   "metadata": {
    "pycharm": {
     "is_executing": true
    }
   },
   "outputs": [],
   "source": [
    "input_A = keras.layers.Input(shape=[5], name=\"wide_input\")\n",
    "input_B = keras.layers.Input(shape=[6], name=\"deep_input\")\n",
    "hidden1 = keras.layers.Dense(30, activation=\"relu\")(input_B)\n",
    "hidden2 = keras.layers.Dense(30, activation=\"relu\")(hidden1)\n",
    "concat = keras.layers.concatenate([input_A, hidden2])\n",
    "output = keras.layers.Dense(1, name=\"main_output\")(concat)\n",
    "aux_output = keras.layers.Dense(1, name=\"aux_output\")(hidden2)\n",
    "\n",
    "model = keras.models.Model(inputs=[input_A, input_B],\n",
    "                           outputs=[output, aux_output])"
   ]
  },
  {
   "cell_type": "code",
   "execution_count": 29,
   "metadata": {
    "pycharm": {
     "is_executing": true
    }
   },
   "outputs": [],
   "source": [
    "model.compile(loss=[\"mse\", \"mse\"], loss_weights=[0.9, 0.1], optimizer=keras.optimizers.SGD(lr=1e-3))"
   ]
  },
  {
   "cell_type": "code",
   "execution_count": 30,
   "metadata": {
    "pycharm": {
     "is_executing": true
    }
   },
   "outputs": [
    {
     "name": "stdout",
     "output_type": "stream",
     "text": [
      "Epoch 1/20\n",
      "363/363 [==============================] - 1s 964us/step - loss: 3.6598 - main_output_loss: 3.5881 - aux_output_loss: 4.3047 - val_loss: 1.6400 - val_main_output_loss: 1.5593 - val_aux_output_loss: 2.3671\n",
      "Epoch 2/20\n",
      "363/363 [==============================] - 0s 620us/step - loss: 1.1779 - main_output_loss: 1.0582 - aux_output_loss: 2.2553 - val_loss: 1.0503 - val_main_output_loss: 0.9767 - val_aux_output_loss: 1.7130\n",
      "Epoch 3/20\n",
      "363/363 [==============================] - 0s 580us/step - loss: 0.9222 - main_output_loss: 0.8349 - aux_output_loss: 1.7084 - val_loss: 0.8557 - val_main_output_loss: 0.7870 - val_aux_output_loss: 1.4742\n",
      "Epoch 4/20\n",
      "363/363 [==============================] - 0s 600us/step - loss: 0.8110 - main_output_loss: 0.7375 - aux_output_loss: 1.4729 - val_loss: 0.7670 - val_main_output_loss: 0.7017 - val_aux_output_loss: 1.3542\n",
      "Epoch 5/20\n",
      "363/363 [==============================] - 0s 665us/step - loss: 0.7583 - main_output_loss: 0.6895 - aux_output_loss: 1.3775 - val_loss: 0.7082 - val_main_output_loss: 0.6445 - val_aux_output_loss: 1.2811\n",
      "Epoch 6/20\n",
      "363/363 [==============================] - 0s 670us/step - loss: 0.6994 - main_output_loss: 0.6352 - aux_output_loss: 1.2765 - val_loss: 0.6644 - val_main_output_loss: 0.6019 - val_aux_output_loss: 1.2266\n",
      "Epoch 7/20\n",
      "363/363 [==============================] - 0s 577us/step - loss: 0.6645 - main_output_loss: 0.6008 - aux_output_loss: 1.2378 - val_loss: 0.6303 - val_main_output_loss: 0.5689 - val_aux_output_loss: 1.1825\n",
      "Epoch 8/20\n",
      "363/363 [==============================] - 0s 734us/step - loss: 0.6447 - main_output_loss: 0.5867 - aux_output_loss: 1.1664 - val_loss: 0.6013 - val_main_output_loss: 0.5408 - val_aux_output_loss: 1.1460\n",
      "Epoch 9/20\n",
      "363/363 [==============================] - 0s 581us/step - loss: 0.6138 - main_output_loss: 0.5528 - aux_output_loss: 1.1633 - val_loss: 0.5756 - val_main_output_loss: 0.5157 - val_aux_output_loss: 1.1142\n",
      "Epoch 10/20\n",
      "363/363 [==============================] - 0s 577us/step - loss: 0.5959 - main_output_loss: 0.5374 - aux_output_loss: 1.1230 - val_loss: 0.5545 - val_main_output_loss: 0.4958 - val_aux_output_loss: 1.0830\n",
      "Epoch 11/20\n",
      "363/363 [==============================] - 0s 708us/step - loss: 0.5589 - main_output_loss: 0.5034 - aux_output_loss: 1.0592 - val_loss: 0.5367 - val_main_output_loss: 0.4792 - val_aux_output_loss: 1.0548\n",
      "Epoch 12/20\n",
      "363/363 [==============================] - 0s 579us/step - loss: 0.5552 - main_output_loss: 0.4988 - aux_output_loss: 1.0628 - val_loss: 0.5238 - val_main_output_loss: 0.4677 - val_aux_output_loss: 1.0285\n",
      "Epoch 13/20\n",
      "363/363 [==============================] - 0s 580us/step - loss: 0.5428 - main_output_loss: 0.4899 - aux_output_loss: 1.0187 - val_loss: 0.5092 - val_main_output_loss: 0.4541 - val_aux_output_loss: 1.0054\n",
      "Epoch 14/20\n",
      "363/363 [==============================] - 0s 579us/step - loss: 0.5309 - main_output_loss: 0.4775 - aux_output_loss: 1.0111 - val_loss: 0.4994 - val_main_output_loss: 0.4456 - val_aux_output_loss: 0.9835\n",
      "Epoch 15/20\n",
      "363/363 [==============================] - 0s 658us/step - loss: 0.5388 - main_output_loss: 0.4872 - aux_output_loss: 1.0030 - val_loss: 0.4905 - val_main_output_loss: 0.4379 - val_aux_output_loss: 0.9636\n",
      "Epoch 16/20\n",
      "363/363 [==============================] - 0s 654us/step - loss: 0.4981 - main_output_loss: 0.4472 - aux_output_loss: 0.9565 - val_loss: 0.4850 - val_main_output_loss: 0.4339 - val_aux_output_loss: 0.9442\n",
      "Epoch 17/20\n",
      "363/363 [==============================] - 0s 637us/step - loss: 0.5049 - main_output_loss: 0.4559 - aux_output_loss: 0.9462 - val_loss: 0.4834 - val_main_output_loss: 0.4344 - val_aux_output_loss: 0.9251\n",
      "Epoch 18/20\n",
      "363/363 [==============================] - 0s 604us/step - loss: 0.4905 - main_output_loss: 0.4416 - aux_output_loss: 0.9305 - val_loss: 0.4793 - val_main_output_loss: 0.4315 - val_aux_output_loss: 0.9098\n",
      "Epoch 19/20\n",
      "363/363 [==============================] - 0s 578us/step - loss: 0.5071 - main_output_loss: 0.4611 - aux_output_loss: 0.9210 - val_loss: 0.4760 - val_main_output_loss: 0.4298 - val_aux_output_loss: 0.8920\n",
      "Epoch 20/20\n",
      "363/363 [==============================] - 0s 581us/step - loss: 0.4909 - main_output_loss: 0.4442 - aux_output_loss: 0.9119 - val_loss: 0.4761 - val_main_output_loss: 0.4318 - val_aux_output_loss: 0.8746\n"
     ]
    }
   ],
   "source": [
    "history = model.fit([X_train_A, X_train_B], [y_train, y_train], epochs=20,\n",
    "                    validation_data=([X_valid_A, X_valid_B], [y_valid, y_valid]))"
   ]
  },
  {
   "cell_type": "code",
   "execution_count": null,
   "metadata": {
    "pycharm": {
     "is_executing": true
    }
   },
   "outputs": [],
   "source": [
    "total_loss, main_loss, aux_loss = model.evaluate([X_test_A, X_test_B], [y_test, y_test])\n",
    "\n",
    "y_pred_main, y_pred_aux = model.predict([X_new_A, X_new_B])\n",
    "# print(y_pred_main, y_pred_aux)"
   ]
  },
  {
   "cell_type": "markdown",
   "metadata": {},
   "source": [
    "## Dynamic Models - Subclassing API\n",
    "\n",
    "Back on track again.\n",
    "\n",
    "Both Sequential/Functional are declarative - # of layers.\n",
    "Advantages: easily saved/shared, structure easily displayed, errors can be caught early, easy to debug, etc.\n",
    "But it's static. "
   ]
  },
  {
   "cell_type": "code",
   "execution_count": 32,
   "metadata": {
    "pycharm": {
     "is_executing": true
    }
   },
   "outputs": [],
   "source": [
    "class WideAndDeepModel(keras.models.Model):\n",
    "    \n",
    "    def __init__(self, units=30, activation='relu', **kwargs):\n",
    "        super().__init__(**kwargs) #handles standard arguments\n",
    "        self.hidden1 = keras.layers.Dense(units, activation=activation)\n",
    "        self.hidden2 = keras.layers.Dense(units, activation=activation)\n",
    "        self.main_output = keras.layers.Dense(1)\n",
    "        self.aux_output = keras.layers.Dense(1)\n",
    "        \n",
    "    def call(self, inputs):\n",
    "        input_A, input_B = inputs\n",
    "        hidden1 = self.hidden1(input_B)\n",
    "        hidden2 = self.hidden2(hidden1)\n",
    "        concat = keras.layers.concatenate([input_A, hidden2])\n",
    "        main_output = self.main_output(concat)\n",
    "        aux_output = self.aux_output(hidden2)\n",
    "        \n",
    "        return main_output, aux_output\n",
    "    \n",
    "model = WideAndDeepModel()\n",
    "\n",
    "\n",
    "# Unlimited possibilites within the call function. Great with experimentations.\n",
    "# However, more difficult to inspect, save or clone. Cannot check and easiler to make mistakes. \n",
    "    "
   ]
  },
  {
   "cell_type": "markdown",
   "metadata": {},
   "source": [
    "## Saving/Restoring model\n",
    "\n",
    "model.save(\"model_name\")\n",
    "\n",
    "model = keras.models.load_model(\"model_name\")\n",
    "\n",
    "If model takes long time to train, don't just save model at end but save checkpoints. Use Callbacks:\n",
    "\n",
    "\n",
    "### Using Callbacks\n",
    "\n",
    "Fit accepts callbacks argument letting Keras call during training, at start/end, start/end of each epoch and start/end of processing each batch. "
   ]
  },
  {
   "cell_type": "code",
   "execution_count": 33,
   "metadata": {
    "pycharm": {
     "is_executing": true
    }
   },
   "outputs": [],
   "source": [
    "keras.backend.clear_session()\n",
    "np.random.seed(24)\n",
    "tf.random.set_seed(24)"
   ]
  },
  {
   "cell_type": "code",
   "execution_count": 34,
   "metadata": {
    "pycharm": {
     "is_executing": true
    }
   },
   "outputs": [],
   "source": [
    "# Randomly training\n",
    "model = keras.models.Sequential([\n",
    "    keras.layers.Dense(30, activation=\"relu\", input_shape=[8]),\n",
    "    keras.layers.Dense(30, activation=\"relu\"),\n",
    "    keras.layers.Dense(1)\n",
    "])    "
   ]
  },
  {
   "cell_type": "code",
   "execution_count": 35,
   "metadata": {
    "pycharm": {
     "is_executing": true
    }
   },
   "outputs": [
    {
     "name": "stdout",
     "output_type": "stream",
     "text": [
      "Epoch 1/10\n",
      "363/363 [==============================] - 0s 534us/step - loss: 4.1776 - val_loss: 6.5714\n",
      "Epoch 2/10\n",
      "363/363 [==============================] - 0s 402us/step - loss: 0.9711 - val_loss: 0.7640\n",
      "Epoch 3/10\n",
      "363/363 [==============================] - 0s 453us/step - loss: 0.6905 - val_loss: 0.8873\n",
      "Epoch 4/10\n",
      "363/363 [==============================] - 0s 434us/step - loss: 0.6248 - val_loss: 0.6003\n",
      "Epoch 5/10\n",
      "363/363 [==============================] - 0s 409us/step - loss: 0.5913 - val_loss: 0.6995\n",
      "Epoch 6/10\n",
      "363/363 [==============================] - 0s 415us/step - loss: 0.5437 - val_loss: 0.5123\n",
      "Epoch 7/10\n",
      "363/363 [==============================] - 0s 409us/step - loss: 0.5166 - val_loss: 0.6188\n",
      "Epoch 8/10\n",
      "363/363 [==============================] - 0s 468us/step - loss: 0.5119 - val_loss: 0.4670\n",
      "Epoch 9/10\n",
      "363/363 [==============================] - 0s 469us/step - loss: 0.4773 - val_loss: 0.5974\n",
      "Epoch 10/10\n",
      "363/363 [==============================] - 0s 761us/step - loss: 0.4699 - val_loss: 0.4403\n",
      "162/162 [==============================] - 0s 262us/step - loss: 0.4549\n"
     ]
    }
   ],
   "source": [
    "model.compile(loss=\"mse\", optimizer=keras.optimizers.SGD(lr=1e-3))\n",
    "\n",
    "history = model.fit(X_train, y_train, epochs=10,\n",
    "                    validation_data=(X_valid, y_valid))\n",
    "mse_test = model.evaluate(X_test, y_test)"
   ]
  },
  {
   "cell_type": "code",
   "execution_count": 36,
   "metadata": {
    "pycharm": {
     "is_executing": true
    }
   },
   "outputs": [],
   "source": [
    "model.save(\"my_keras_model.h5\")\n",
    "model = keras.models.load_model(\"my_keras_model.h5\")\n",
    "# Saving and reloading"
   ]
  },
  {
   "cell_type": "code",
   "execution_count": 37,
   "metadata": {
    "pycharm": {
     "is_executing": true
    }
   },
   "outputs": [],
   "source": [
    "# Doing the same thing, but with callbacks:\n",
    "\n",
    "keras.backend.clear_session()\n",
    "np.random.seed(24)\n",
    "tf.random.set_seed(24)"
   ]
  },
  {
   "cell_type": "code",
   "execution_count": 38,
   "metadata": {
    "pycharm": {
     "is_executing": true
    }
   },
   "outputs": [
    {
     "name": "stdout",
     "output_type": "stream",
     "text": [
      "Epoch 1/10\n",
      "363/363 [==============================] - 0s 530us/step - loss: 0.4537 - val_loss: 0.4331\n",
      "Epoch 2/10\n",
      "363/363 [==============================] - 0s 421us/step - loss: 0.4480 - val_loss: 0.4408\n",
      "Epoch 3/10\n",
      "363/363 [==============================] - 0s 416us/step - loss: 0.4457 - val_loss: 0.4034\n",
      "Epoch 4/10\n",
      "363/363 [==============================] - 0s 420us/step - loss: 0.4185 - val_loss: 0.4033\n",
      "Epoch 5/10\n",
      "363/363 [==============================] - 0s 404us/step - loss: 0.4154 - val_loss: 0.3968\n",
      "Epoch 6/10\n",
      "363/363 [==============================] - 0s 442us/step - loss: 0.4075 - val_loss: 0.3927\n",
      "Epoch 7/10\n",
      "363/363 [==============================] - 0s 412us/step - loss: 0.3922 - val_loss: 0.3850\n",
      "Epoch 8/10\n",
      "363/363 [==============================] - 0s 398us/step - loss: 0.4066 - val_loss: 0.3787\n",
      "Epoch 9/10\n",
      "363/363 [==============================] - 0s 398us/step - loss: 0.3921 - val_loss: 0.3865\n",
      "Epoch 10/10\n",
      "363/363 [==============================] - 0s 402us/step - loss: 0.3916 - val_loss: 0.3735\n",
      "162/162 [==============================] - 0s 244us/step - loss: 0.3978\n"
     ]
    }
   ],
   "source": [
    "model.compile(loss=\"mse\", optimizer=keras.optimizers.SGD(lr=1e-3))\n",
    "\n",
    "checkpoint_cb = keras.callbacks.ModelCheckpoint(\"my_keras_model.h5\", save_best_only=True)\n",
    "\n",
    "history = model.fit(X_train, y_train, epochs=10,\n",
    "                    validation_data=(X_valid, y_valid),\n",
    "                    callbacks=[checkpoint_cb])\n",
    "\n",
    "model = keras.models.load_model(\"my_keras_model.h5\") # rollback to best model\n",
    "mse_test = model.evaluate(X_test, y_test)\n",
    "\n",
    "# Another way of doing it is with early stopping. Can also write custom callbacks."
   ]
  },
  {
   "cell_type": "markdown",
   "metadata": {},
   "source": [
    "## Visualization Using TensorBoard\n",
    "\n",
    "View learning curve during training, compare learning curves, visualize computation graph, etcetc.\n",
    "\n",
    "Modify program - output data wanting to visualize to special binary log file. Point TensorBoard server to root log directory, and configure program for different subdirectory saving. This way you can visualize/compare data from multiple runs."
   ]
  },
  {
   "cell_type": "code",
   "execution_count": 40,
   "metadata": {
    "pycharm": {
     "is_executing": true
    }
   },
   "outputs": [
    {
     "name": "stdout",
     "output_type": "stream",
     "text": [
      "Epoch 1/30\n",
      "273/363 [=====================>........] - ETA: 0s - loss: 0.3953"
     ]
    },
    {
     "name": "stderr",
     "output_type": "stream",
     "text": [
      "2021-08-06 18:54:42.827867: I tensorflow/python/profiler/internal/profiler_wrapper.cc:182] Profiling will start immediately because delay_ms was unset or zero.\n",
      "2021-08-06 18:54:42.827906: I tensorflow/core/profiler/lib/profiler_session.cc:133] Profiler session started.\n",
      "2021-08-06 18:54:42.934855: I tensorflow/python/profiler/internal/profiler_wrapper.cc:182] Profiling will start immediately because delay_ms was unset or zero.\n",
      "2021-08-06 18:54:42.934870: I tensorflow/core/profiler/lib/profiler_session.cc:133] Profiler session started.\n",
      "2021-08-06 18:54:42.945852: I tensorflow/core/profiler/rpc/client/save_profile.cc:133] Creating directory: ./my_logs/run_2021_08_06-18_54_42/train/plugins/profile/2021_08_06_18_54_42\n",
      "2021-08-06 18:54:42.946746: I tensorflow/core/profiler/rpc/client/save_profile.cc:139] Dumped gzipped tool data for trace.json.gz to ./my_logs/run_2021_08_06-18_54_42/train/plugins/profile/2021_08_06_18_54_42/Edmonds-MacBook-Pro-X-Max.local.trace.json.gz\n",
      "2021-08-06 18:54:42.949578: I tensorflow/core/profiler/rpc/client/save_profile.cc:133] Creating directory: ./my_logs/run_2021_08_06-18_54_42/train/plugins/profile/2021_08_06_18_54_42\n",
      "2021-08-06 18:54:42.949744: I tensorflow/core/profiler/rpc/client/save_profile.cc:139] Dumped gzipped tool data for memory_profile.json.gz to ./my_logs/run_2021_08_06-18_54_42/train/plugins/profile/2021_08_06_18_54_42/Edmonds-MacBook-Pro-X-Max.local.memory_profile.json.gz\n",
      "2021-08-06 18:54:42.950157: I tensorflow/core/profiler/rpc/client/capture_profile.cc:235] Creating directory: ./my_logs/run_2021_08_06-18_54_42/train/plugins/profile/2021_08_06_18_54_42Dumped tool data for xplane.pb to ./my_logs/run_2021_08_06-18_54_42/train/plugins/profile/2021_08_06_18_54_42/Edmonds-MacBook-Pro-X-Max.local.xplane.pb\n",
      "Dumped tool data for overview_page.pb to ./my_logs/run_2021_08_06-18_54_42/train/plugins/profile/2021_08_06_18_54_42/Edmonds-MacBook-Pro-X-Max.local.overview_page.pb\n",
      "Dumped tool data for input_pipeline.pb to ./my_logs/run_2021_08_06-18_54_42/train/plugins/profile/2021_08_06_18_54_42/Edmonds-MacBook-Pro-X-Max.local.input_pipeline.pb\n",
      "Dumped tool data for tensorflow_stats.pb to ./my_logs/run_2021_08_06-18_54_42/train/plugins/profile/2021_08_06_18_54_42/Edmonds-MacBook-Pro-X-Max.local.tensorflow_stats.pb\n",
      "Dumped tool data for kernel_stats.pb to ./my_logs/run_2021_08_06-18_54_42/train/plugins/profile/2021_08_06_18_54_42/Edmonds-MacBook-Pro-X-Max.local.kernel_stats.pb\n",
      "\n"
     ]
    },
    {
     "name": "stdout",
     "output_type": "stream",
     "text": [
      "363/363 [==============================] - 0s 515us/step - loss: 0.3985 - val_loss: 0.3735\n",
      "Epoch 2/30\n",
      "363/363 [==============================] - 0s 417us/step - loss: 0.3960 - val_loss: 0.3735\n",
      "Epoch 3/30\n",
      "363/363 [==============================] - 0s 421us/step - loss: 0.3939 - val_loss: 0.3735\n",
      "Epoch 4/30\n",
      "363/363 [==============================] - 0s 414us/step - loss: 0.3919 - val_loss: 0.3735\n",
      "Epoch 5/30\n",
      "363/363 [==============================] - 0s 520us/step - loss: 0.3897 - val_loss: 0.3735\n",
      "Epoch 6/30\n",
      "363/363 [==============================] - 0s 462us/step - loss: 0.3882 - val_loss: 0.3735\n",
      "Epoch 7/30\n",
      "363/363 [==============================] - 0s 446us/step - loss: 0.3861 - val_loss: 0.3735\n",
      "Epoch 8/30\n",
      "363/363 [==============================] - 0s 497us/step - loss: 0.3853 - val_loss: 0.3735\n",
      "Epoch 9/30\n",
      "363/363 [==============================] - 0s 480us/step - loss: 0.3828 - val_loss: 0.3735\n",
      "Epoch 10/30\n",
      "363/363 [==============================] - 0s 478us/step - loss: 0.3814 - val_loss: 0.3735\n",
      "Epoch 11/30\n",
      "363/363 [==============================] - 0s 418us/step - loss: 0.3798 - val_loss: 0.3735\n",
      "Epoch 12/30\n",
      "363/363 [==============================] - 0s 466us/step - loss: 0.3783 - val_loss: 0.3735\n",
      "Epoch 13/30\n",
      "363/363 [==============================] - 0s 459us/step - loss: 0.3775 - val_loss: 0.3735\n",
      "Epoch 14/30\n",
      "363/363 [==============================] - 0s 444us/step - loss: 0.3758 - val_loss: 0.3735\n",
      "Epoch 15/30\n",
      "363/363 [==============================] - 0s 397us/step - loss: 0.3748 - val_loss: 0.3735\n",
      "Epoch 16/30\n",
      "363/363 [==============================] - 0s 398us/step - loss: 0.3731 - val_loss: 0.3735\n",
      "Epoch 17/30\n",
      "363/363 [==============================] - 0s 409us/step - loss: 0.3721 - val_loss: 0.3735\n",
      "Epoch 18/30\n",
      "363/363 [==============================] - 0s 410us/step - loss: 0.3711 - val_loss: 0.3735\n",
      "Epoch 19/30\n",
      "363/363 [==============================] - 0s 415us/step - loss: 0.3702 - val_loss: 0.3735\n",
      "Epoch 20/30\n",
      "363/363 [==============================] - 0s 401us/step - loss: 0.3688 - val_loss: 0.3735\n",
      "Epoch 21/30\n",
      "363/363 [==============================] - 0s 395us/step - loss: 0.3678 - val_loss: 0.3735\n",
      "Epoch 22/30\n",
      "363/363 [==============================] - 0s 406us/step - loss: 0.3669 - val_loss: 0.3735\n",
      "Epoch 23/30\n",
      "363/363 [==============================] - 0s 396us/step - loss: 0.3657 - val_loss: 0.3735\n",
      "Epoch 24/30\n",
      "363/363 [==============================] - 0s 396us/step - loss: 0.3652 - val_loss: 0.3735\n",
      "Epoch 25/30\n",
      "363/363 [==============================] - 0s 462us/step - loss: 0.3640 - val_loss: 0.3735\n",
      "Epoch 26/30\n",
      "363/363 [==============================] - 0s 447us/step - loss: 0.3639 - val_loss: 0.3735\n",
      "Epoch 27/30\n",
      "363/363 [==============================] - 0s 475us/step - loss: 0.3622 - val_loss: 0.3735\n",
      "Epoch 28/30\n",
      "363/363 [==============================] - 0s 416us/step - loss: 0.3621 - val_loss: 0.3735\n",
      "Epoch 29/30\n",
      "363/363 [==============================] - 0s 405us/step - loss: 0.3607 - val_loss: 0.3735\n",
      "Epoch 30/30\n",
      "363/363 [==============================] - 0s 479us/step - loss: 0.3603 - val_loss: 0.3735\n"
     ]
    }
   ],
   "source": [
    "import os\n",
    "\n",
    "# Defining root log directory - current time so always different\n",
    "\n",
    "root_logdir = os.path.join(os.curdir, \"my_logs\")\n",
    "\n",
    "def get_run_logdir():\n",
    "    import time\n",
    "    run_id = time.strftime('run_%Y_%m_%d-%H_%M_%S')\n",
    "    return os.path.join(root_logdir, run_id)\n",
    "\n",
    "run_logdir = get_run_logdir()\n",
    "\n",
    "# TensorBoard callback\n",
    "\n",
    "# After building/compiling model\n",
    "tensorboard_cb = keras.callbacks.TensorBoard(run_logdir)\n",
    "history = model.fit(X_train, y_train, epochs=30,\n",
    "                    validation_data=(X_valid, y_valid),\n",
    "                    callbacks=[tensorboard_cb])\n",
    "\n",
    "\n",
    "# USEFUL THING TO DO - look into this later"
   ]
  },
  {
   "cell_type": "code",
   "execution_count": 41,
   "metadata": {
    "pycharm": {
     "is_executing": true
    }
   },
   "outputs": [],
   "source": [
    "# Fine-Tuning Hyperparameters\n",
    "\n",
    "# Approach 1 - which works best on validation set - GridSearch\n",
    "\n",
    "def build_model(n_hidden=1, n_neurons=30, learning_rate=3e-3, input_shape=[8]):\n",
    "    model = keras.models.Sequential()\n",
    "    options = {\"input_shape\": input_shape}\n",
    "    for layer in range(n_hidden):\n",
    "        model.add(keras.layers.Dense(n_neurons, activation=\"relu\", **options))\n",
    "        options = {}\n",
    "    model.add(keras.layers.Dense(1, **options))\n",
    "    optimizer = keras.optimizers.SGD(learning_rate)\n",
    "    model.compile(loss=\"mse\", optimizer=optimizer)\n",
    "    return model"
   ]
  },
  {
   "cell_type": "code",
   "execution_count": null,
   "metadata": {
    "pycharm": {
     "is_executing": true
    }
   },
   "outputs": [],
   "source": [
    "# FUCKING piece of shit not saving again. fuck this shit. die in hell bitches"
   ]
  }
 ],
 "metadata": {
  "kernelspec": {
   "display_name": "PyCharm (Machine Learning)",
   "language": "python",
   "name": "pycharm-2a024816"
  },
  "language_info": {
   "codemirror_mode": {
    "name": "ipython",
    "version": 3
   },
   "file_extension": ".py",
   "mimetype": "text/x-python",
   "name": "python",
   "nbconvert_exporter": "python",
   "pygments_lexer": "ipython3",
   "version": "3.9.6"
  }
 },
 "nbformat": 4,
 "nbformat_minor": 1
}
